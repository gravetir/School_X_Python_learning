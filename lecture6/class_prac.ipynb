{
 "cells": [
  {
   "cell_type": "code",
   "execution_count": 1,
   "id": "30838d2b-152c-4f30-ada3-c2f7d840cdb6",
   "metadata": {},
   "outputs": [],
   "source": [
    "class MainCharacter():\n",
    "    hp: float|int=100\n",
    "    strong: float|int=50\n",
    "    dexterity: float|int=40\n",
    "    iq: float|int=100\n",
    "    speed: float|int=50\n",
    "    damage: float|int=10\n",
    "    def __init__(self,hp=100,strong=50,dexterity=40,iq=100,speed=50,damage=10):\n",
    "        self.hp=hp\n",
    "        self.strong=strong\n",
    "        self.dexterity=dexterity\n",
    "        self.iq=iq\n",
    "        self.speed=speed\n",
    "        self.damage=damage\n",
    "    def trade(self):\n",
    "        if self.iq>90:\n",
    "            print('main_character обманул торговца')\n",
    "        else:\n",
    "            print('Купил за дорого')\n",
    "    def move(self):\n",
    "        if self.speed and self.dexterity >= 100:\n",
    "            print('Перепрыгнул ограду 2 м')\n",
    "        else:\n",
    "            print('Споткнулся')\n",
    "    def wait(self):\n",
    "        if self.hp>80:\n",
    "            print('Время ожидания не превышено')\n",
    "        else:\n",
    "            print('Время ожидания превышено')\n",
    "    def think(self):\n",
    "        if self.iq>10:\n",
    "            print('Сложить 2+2=4')\n",
    "        else:\n",
    "            print('Не сложить пример')"
   ]
  },
  {
   "cell_type": "code",
   "execution_count": 2,
   "id": "4dee48ea-1faf-440e-b5cb-69155f6ddfbe",
   "metadata": {},
   "outputs": [],
   "source": [
    "class Hero(MainCharacter):\n",
    "    def trade(self):\n",
    "        return self.iq*self.dexterity\n",
    "    def move(self):\n",
    "        return self.speed/2\n",
    "    def wait(self):\n",
    "        return self.hp**2\n",
    "    def think(self):\n",
    "        return self.iq-10\n",
    "class Villian(MainCharacter):\n",
    "    def trade(self):\n",
    "        return self.iq*self.dexterity*5+10\n",
    "    def move(self):\n",
    "        return self.dexterity+self.strong+(self.speed*4)\n",
    "    def think(self):\n",
    "        return self.iq*3\n",
    "    def wait(self):\n",
    "        return self.hp**5\n",
    "class GoodHero(Hero):\n",
    "    def trade(self):\n",
    "        return self.iq*self.dixterity+2\n",
    "    def move(self):\n",
    "        return self.dixterity**self.speed\n",
    "    def wait(self):\n",
    "        return self.hp+self.iq\n",
    "    def think(self):\n",
    "        return self.iq*5\n",
    "class EvilTrader(Villian):\n",
    "    def trade(self):\n",
    "        return self.iq*self.dexterity**6\n",
    "    def move(self):\n",
    "        return self.dixterity*2\n",
    "    def think(self):\n",
    "        return self.iq**3\n",
    "    def wait(self):\n",
    "        return self.hp*4\n",
    "    "
   ]
  },
  {
   "cell_type": "code",
   "execution_count": 4,
   "id": "eab5a524-a3f7-4585-9752-cd5a12e62a77",
   "metadata": {},
   "outputs": [
    {
     "name": "stdout",
     "output_type": "stream",
     "text": [
      "100\n",
      "40\n",
      "100\n",
      "50\n",
      "300\n",
      "290\n",
      "Время ожидания не превышено\n",
      "None\n",
      "main_character обманул торговца\n",
      "None\n"
     ]
    }
   ],
   "source": [
    "trader1=EvilTrader()\n",
    "trader2=EvilTrader()\n",
    "trader3=Villian()\n",
    "trader4=MainCharacter()\n",
    "hero1=GoodHero()\n",
    "hero2=GoodHero()\n",
    "print(trader1.iq)\n",
    "print(trader2.dexterity)\n",
    "print(hero1.hp)\n",
    "print(hero2.strong)\n",
    "print(trader3.think())\n",
    "print(trader3.move())\n",
    "print(trader4.wait())\n",
    "print(trader4.trade())"
   ]
  },
  {
   "cell_type": "code",
   "execution_count": null,
   "id": "a9e38993-776a-4e49-9b7c-571abb54159a",
   "metadata": {},
   "outputs": [],
   "source": []
  }
 ],
 "metadata": {
  "kernelspec": {
   "display_name": "Python 3 (ipykernel)",
   "language": "python",
   "name": "python3"
  },
  "language_info": {
   "codemirror_mode": {
    "name": "ipython",
    "version": 3
   },
   "file_extension": ".py",
   "mimetype": "text/x-python",
   "name": "python",
   "nbconvert_exporter": "python",
   "pygments_lexer": "ipython3",
   "version": "3.11.2"
  }
 },
 "nbformat": 4,
 "nbformat_minor": 5
}
