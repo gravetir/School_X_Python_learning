{
 "cells": [
  {
   "cell_type": "code",
   "execution_count": 15,
   "id": "30838d2b-152c-4f30-ada3-c2f7d840cdb6",
   "metadata": {},
   "outputs": [],
   "source": [
    "class MainCharacter():\n",
    "    hp: float|int=100\n",
    "    strong: float|int=50\n",
    "    dexterity: float|int=40\n",
    "    iq: float|int=100\n",
    "    speed: float|int=50\n",
    "    damage: float|int=10\n",
    "    def __init__(self,hp,strong,dexterity,iq,speed,damage):\n",
    "        hp: float|int=100\n",
    "        strong: float|int=50\n",
    "        dexterity: float|int=40\n",
    "        iq: float|int=100\n",
    "        speed: float|int=50\n",
    "        damage: float|int=10\n",
    "    def trade(self,iq):\n",
    "        if self.iq>90:\n",
    "            print('main_character обманул торговца')\n",
    "        else:\n",
    "            print('Купил за дорого')\n",
    "    def move(self, speed,dexterity):\n",
    "        if self.speed and self.dexterity >= 100:\n",
    "            print('Перепрыгнул ограду 2 м')\n",
    "        else:\n",
    "            print('Споткнулся')\n",
    "    def wait(self, hp):\n",
    "        if self.hp>80:\n",
    "            print('Время ожидания не превышено')\n",
    "        else:\n",
    "            print('Время ожидания превышено')\n",
    "    def think(self,iq):\n",
    "        if self.iq>10:\n",
    "            print('Сложить 2+2=4')\n",
    "        else:\n",
    "            print('Не сложить пример')"
   ]
  },
  {
   "cell_type": "code",
   "execution_count": 16,
   "id": "4dee48ea-1faf-440e-b5cb-69155f6ddfbe",
   "metadata": {},
   "outputs": [],
   "source": [
    "class Hero(MainCharacter):\n",
    "    def __init__(self,hp,strong,dexterity,iq,speed,damage):\n",
    "    def trade(self):\n",
    "        return self.iq*self.dexterity\n",
    "    def move(self):\n",
    "        return self.speed/2\n",
    "    def wait(self):\n",
    "        return self.hp**2\n",
    "    def think(self):\n",
    "        return self.iq-10\n",
    "class Villian(MainCharacter):\n",
    "    def __init__(self,hp,strong,dexterity,iq,speed,damage):\n",
    "    def trade(self):\n",
    "        return self.iq*self.dexterity*5+10\n",
    "    def move(self):\n",
    "        return self.dexterity+self.strong+(self.speed*4)\n",
    "    def think(self):\n",
    "        return self.iq*3\n",
    "    def wait(self):\n",
    "        return self.hp**5\n",
    "class GoodHero(Hero):\n",
    "    def __init__(self,hp,strong,dexterity,iq,speed,damage):\n",
    "    def trade(self):\n",
    "        return self.iq*self.dixterity+2\n",
    "    def move(self):\n",
    "        return self.dixterity**self.speed\n",
    "    def wait(self):\n",
    "        return self.hp+self.iq\n",
    "    def think(self):\n",
    "        return self.iq*5\n",
    "class EvilTrader(Villian):\n",
    "    def __init__(self,hp,strong,dexterity,iq,speed,damage):\n",
    "    def trade(self):\n",
    "        return self.iq*self.dexterity**6\n",
    "    def move(self):\n",
    "        return self.dixterity*2\n",
    "    def think(self):\n",
    "        return self.iq**3\n",
    "    def wait(self):\n",
    "        return self.hp*4\n",
    "    "
   ]
  },
  {
   "cell_type": "code",
   "execution_count": 21,
   "id": "eab5a524-a3f7-4585-9752-cd5a12e62a77",
   "metadata": {},
   "outputs": [
    {
     "ename": "NameError",
     "evalue": "name 'trader1' is not defined",
     "output_type": "error",
     "traceback": [
      "\u001b[1;31m---------------------------------------------------------------------------\u001b[0m",
      "\u001b[1;31mNameError\u001b[0m                                 Traceback (most recent call last)",
      "Cell \u001b[1;32mIn[21], line 1\u001b[0m\n\u001b[1;32m----> 1\u001b[0m trader1 \u001b[38;5;241m=\u001b[39m \u001b[43mtrader1\u001b[49m\u001b[38;5;241m.\u001b[39mEvilTrader(hp\u001b[38;5;241m=\u001b[39m\u001b[38;5;241m60\u001b[39m)\n\u001b[0;32m      2\u001b[0m trader2 \u001b[38;5;241m=\u001b[39m trader2\u001b[38;5;241m.\u001b[39mEvilTrader(iq\u001b[38;5;241m=\u001b[39m\u001b[38;5;241m45\u001b[39m)\n\u001b[0;32m      3\u001b[0m hero1\u001b[38;5;241m=\u001b[39mhero1\u001b[38;5;241m.\u001b[39mGoodHero(strong\u001b[38;5;241m=\u001b[39m\u001b[38;5;241m200\u001b[39m)\n",
      "\u001b[1;31mNameError\u001b[0m: name 'trader1' is not defined"
     ]
    }
   ],
   "source": [
    "trader1 = trader1.EvilTrader(hp=60)\n",
    "trader2 = trader2.EvilTrader(iq=45)\n",
    "hero1=hero1.GoodHero(strong=200)\n",
    "hero2=hero2.GoodHero(speed=150)\n",
    "print(trader1)\n",
    "print(trader2)\n",
    "print(hero1)\n",
    "print(hero2)"
   ]
  },
  {
   "cell_type": "code",
   "execution_count": null,
   "id": "a9e38993-776a-4e49-9b7c-571abb54159a",
   "metadata": {},
   "outputs": [],
   "source": []
  }
 ],
 "metadata": {
  "kernelspec": {
   "display_name": "Python 3 (ipykernel)",
   "language": "python",
   "name": "python3"
  },
  "language_info": {
   "codemirror_mode": {
    "name": "ipython",
    "version": 3
   },
   "file_extension": ".py",
   "mimetype": "text/x-python",
   "name": "python",
   "nbconvert_exporter": "python",
   "pygments_lexer": "ipython3",
   "version": "3.11.2"
  }
 },
 "nbformat": 4,
 "nbformat_minor": 5
}
