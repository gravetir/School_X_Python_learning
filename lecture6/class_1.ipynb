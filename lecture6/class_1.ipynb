{
 "cells": [
  {
   "cell_type": "code",
   "execution_count": 24,
   "id": "04b6da5e-b419-4b71-bada-1fcd57ebd608",
   "metadata": {},
   "outputs": [],
   "source": [
    "class Human:\n",
    "    weight:float|int=80\n",
    "    height:float|int=170\n",
    "    name:str|None=None\n",
    "    iq:float|int=100\n",
    "    def __init__(self,weight,height,name):\n",
    "        self.weight=weight\n",
    "        self.height=height\n",
    "        self.name=name\n",
    "    def walk(self, speed: float|int=1.0):\n",
    "        print('Я хожу со скоростью:', speed)\n",
    "    def run(self,speed:float|int=5.0):\n",
    "        if self.weight>110:\n",
    "            print('Не может бегать')\n",
    "        else:\n",
    "            print('Беги')\n",
    "    def breathe(self):\n",
    "        print('Дыхать')\n",
    "    "
   ]
  },
  {
   "cell_type": "code",
   "execution_count": 36,
   "id": "7fd6e63b-0c51-4a8c-8935-547f6f595cee",
   "metadata": {},
   "outputs": [
    {
     "ename": "TypeError",
     "evalue": "Human.__init__() missing 2 required positional arguments: 'height' and 'name'",
     "output_type": "error",
     "traceback": [
      "\u001b[1;31m---------------------------------------------------------------------------\u001b[0m",
      "\u001b[1;31mTypeError\u001b[0m                                 Traceback (most recent call last)",
      "Cell \u001b[1;32mIn[36], line 1\u001b[0m\n\u001b[1;32m----> 1\u001b[0m Vova_1\u001b[38;5;241m=\u001b[39m\u001b[43mHuman\u001b[49m\u001b[43m(\u001b[49m\u001b[38;5;241;43m90\u001b[39;49m\u001b[43m)\u001b[49m\n",
      "\u001b[1;31mTypeError\u001b[0m: Human.__init__() missing 2 required positional arguments: 'height' and 'name'"
     ]
    }
   ],
   "source": [
    "Vova_1=Human()"
   ]
  },
  {
   "cell_type": "code",
   "execution_count": 39,
   "id": "116fcd41-afe0-44bd-8fee-cd0212a2b20d",
   "metadata": {},
   "outputs": [
    {
     "name": "stdout",
     "output_type": "stream",
     "text": [
      "Беги\n"
     ]
    }
   ],
   "source": [
    "Vova_1.run()"
   ]
  },
  {
   "cell_type": "code",
   "execution_count": 14,
   "id": "64bbe058-6c3b-43a4-b0bc-1d5c9e5879ea",
   "metadata": {},
   "outputs": [],
   "source": [
    "Vova_1.weight\n",
    "Vova_1.name = 'Vova'"
   ]
  },
  {
   "cell_type": "code",
   "execution_count": 16,
   "id": "5947585a-4cf2-4fde-b110-25304fda50e8",
   "metadata": {},
   "outputs": [
    {
     "data": {
      "text/plain": [
       "'Vova'"
      ]
     },
     "execution_count": 16,
     "metadata": {},
     "output_type": "execute_result"
    }
   ],
   "source": [
    "Vova_1.name"
   ]
  },
  {
   "cell_type": "code",
   "execution_count": 22,
   "id": "27d5cfc8-2ffe-4b68-9b72-f67f624083dd",
   "metadata": {},
   "outputs": [
    {
     "ename": "TypeError",
     "evalue": "Human() takes no arguments",
     "output_type": "error",
     "traceback": [
      "\u001b[1;31m---------------------------------------------------------------------------\u001b[0m",
      "\u001b[1;31mTypeError\u001b[0m                                 Traceback (most recent call last)",
      "Cell \u001b[1;32mIn[22], line 1\u001b[0m\n\u001b[1;32m----> 1\u001b[0m Vova_2\u001b[38;5;241m=\u001b[39m\u001b[43mHuman\u001b[49m\u001b[43m(\u001b[49m\u001b[43mheight\u001b[49m\u001b[38;5;241;43m=\u001b[39;49m\u001b[38;5;241;43m170\u001b[39;49m\u001b[43m,\u001b[49m\u001b[43mweight\u001b[49m\u001b[38;5;241;43m=\u001b[39;49m\u001b[38;5;241;43m220\u001b[39;49m\u001b[43m,\u001b[49m\u001b[43mname\u001b[49m\u001b[38;5;241;43m=\u001b[39;49m\u001b[38;5;124;43m'\u001b[39;49m\u001b[38;5;124;43mVova\u001b[39;49m\u001b[38;5;124;43m'\u001b[39;49m\u001b[43m)\u001b[49m\n",
      "\u001b[1;31mTypeError\u001b[0m: Human() takes no arguments"
     ]
    }
   ],
   "source": [
    "Vova_2=Human(height=170,weight=220,name='Vova')"
   ]
  },
  {
   "cell_type": "code",
   "execution_count": 30,
   "id": "31798ec2-1612-4736-943d-5a1c9832d980",
   "metadata": {},
   "outputs": [],
   "source": [
    "class Humanworker(Human):\n",
    "    def work():\n",
    "        print('Я работаю')\n",
    "    def walk(self,speed=0.5):\n",
    "        print('Я иду с низкой скоростю')"
   ]
  },
  {
   "cell_type": "code",
   "execution_count": 31,
   "id": "2ed82a86-ef39-4289-9cb1-fdd6feab287a",
   "metadata": {},
   "outputs": [],
   "source": [
    "Vova_worker1=Humanworker"
   ]
  },
  {
   "cell_type": "code",
   "execution_count": 40,
   "id": "69234885-0148-4244-a002-b18bda332900",
   "metadata": {},
   "outputs": [
    {
     "ename": "NameError",
     "evalue": "name 'self' is not defined",
     "output_type": "error",
     "traceback": [
      "\u001b[1;31m---------------------------------------------------------------------------\u001b[0m",
      "\u001b[1;31mNameError\u001b[0m                                 Traceback (most recent call last)",
      "Cell \u001b[1;32mIn[40], line 1\u001b[0m\n\u001b[1;32m----> 1\u001b[0m Vova_worker1\u001b[38;5;241m.\u001b[39mrun(\u001b[38;5;28;43mself\u001b[39;49m)\n",
      "\u001b[1;31mNameError\u001b[0m: name 'self' is not defined"
     ]
    }
   ],
   "source": [
    "Vova_worker1.run(self)"
   ]
  },
  {
   "cell_type": "code",
   "execution_count": null,
   "id": "1f68605d-d280-4c26-8258-88e5c5a3bece",
   "metadata": {},
   "outputs": [],
   "source": []
  }
 ],
 "metadata": {
  "kernelspec": {
   "display_name": "Python 3 (ipykernel)",
   "language": "python",
   "name": "python3"
  },
  "language_info": {
   "codemirror_mode": {
    "name": "ipython",
    "version": 3
   },
   "file_extension": ".py",
   "mimetype": "text/x-python",
   "name": "python",
   "nbconvert_exporter": "python",
   "pygments_lexer": "ipython3",
   "version": "3.11.2"
  }
 },
 "nbformat": 4,
 "nbformat_minor": 5
}
