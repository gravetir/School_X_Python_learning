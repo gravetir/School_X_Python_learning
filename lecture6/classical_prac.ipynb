{
 "cells": [
  {
   "cell_type": "code",
   "execution_count": 3,
   "id": "ea2e7a08-8198-4913-8465-64e037db1e2b",
   "metadata": {},
   "outputs": [
    {
     "ename": "TypeError",
     "evalue": "GoodHero.__init__() takes 7 positional arguments but 8 were given",
     "output_type": "error",
     "traceback": [
      "\u001b[1;31m---------------------------------------------------------------------------\u001b[0m",
      "\u001b[1;31mTypeError\u001b[0m                                 Traceback (most recent call last)",
      "Cell \u001b[1;32mIn[3], line 72\u001b[0m\n\u001b[0;32m     69\u001b[0m         \u001b[38;5;28mself\u001b[39m\u001b[38;5;241m.\u001b[39mspeed\u001b[38;5;241m=\u001b[39mspeed\n\u001b[0;32m     70\u001b[0m         \u001b[38;5;28mself\u001b[39m\u001b[38;5;241m.\u001b[39mdamage\u001b[38;5;241m=\u001b[39mdamage \n\u001b[1;32m---> 72\u001b[0m goodhero\u001b[38;5;241m=\u001b[39m\u001b[43mGoodHero\u001b[49m\u001b[43m(\u001b[49m\u001b[38;5;124;43m\"\u001b[39;49m\u001b[38;5;124;43mFuture\u001b[39;49m\u001b[38;5;124;43m\"\u001b[39;49m\u001b[43m,\u001b[49m\u001b[38;5;241;43m100\u001b[39;49m\u001b[43m,\u001b[49m\u001b[38;5;241;43m50\u001b[39;49m\u001b[43m,\u001b[49m\u001b[38;5;241;43m85\u001b[39;49m\u001b[43m,\u001b[49m\u001b[38;5;241;43m90\u001b[39;49m\u001b[43m,\u001b[49m\u001b[38;5;241;43m45\u001b[39;49m\u001b[43m,\u001b[49m\u001b[38;5;241;43m89\u001b[39;49m\u001b[43m)\u001b[49m\n\u001b[0;32m     73\u001b[0m evilhero\u001b[38;5;241m=\u001b[39mEvilTrader(\u001b[38;5;124m\"\u001b[39m\u001b[38;5;124mPath\u001b[39m\u001b[38;5;124m\"\u001b[39m,\u001b[38;5;241m150\u001b[39m,\u001b[38;5;241m56\u001b[39m,\u001b[38;5;241m78\u001b[39m,\u001b[38;5;241m123\u001b[39m,\u001b[38;5;241m57\u001b[39m,\u001b[38;5;241m61\u001b[39m)\n\u001b[0;32m     74\u001b[0m \u001b[38;5;28mprint\u001b[39m(goodhero)\n",
      "\u001b[1;31mTypeError\u001b[0m: GoodHero.__init__() takes 7 positional arguments but 8 were given"
     ]
    }
   ],
   "source": [
    "class MainCharacter:\n",
    "    hp: float|int=100\n",
    "    strong: float|int=50\n",
    "    dexterity: float|int=40\n",
    "    iq: float|int=100\n",
    "    speed: float|int=50\n",
    "    damage: float|int=10\n",
    "    def __init__(self, hp, strong, dexterity,iq,speed,damage):\n",
    "        self.hp=hp\n",
    "        self.strong=strong\n",
    "        self.dexterity=dexterity\n",
    "        self.iq=iq\n",
    "        self.speed=speed\n",
    "        self.damage=damage\n",
    "class Hero:\n",
    "    hp: float|int=90\n",
    "    strong: float|int=85\n",
    "    dexterity: float|int=120\n",
    "    iq: float|int=90\n",
    "    speed: float|int=60\n",
    "    damage: float|int=75\n",
    "    def __init__(self, hp, strong, dexterity,iq,speed,damage):\n",
    "        self.hp=hp\n",
    "        self.strong=strong\n",
    "        self.dexterity=dexterity\n",
    "        self.iq=iq\n",
    "        self.speed=speed\n",
    "        self.damage=damage    \n",
    "class Villian:\n",
    "    hp: float|int=150\n",
    "    strong: float|int=55\n",
    "    dexterity: float|int=45\n",
    "    iq: float|int=150\n",
    "    speed: float|int=25\n",
    "    damage: float|int=15\n",
    "    def __init__(self, hp, strong, dexterity,iq,speed,damage):\n",
    "        self.hp=hp\n",
    "        self.strong=strong\n",
    "        self.dexterity=dexterity\n",
    "        self.iq=iq\n",
    "        self.speed=speed\n",
    "        self.damage=damage \n",
    "class GoodHero:\n",
    "    hp: float|int=140\n",
    "    strong: float|int=120\n",
    "    dexterity: float|int=98\n",
    "    iq: float|int=56\n",
    "    speed: float|int=78\n",
    "    damage: float|int=40\n",
    "    def __init__(self, hp, strong, dexterity,iq,speed,damage):\n",
    "        self.hp=hp\n",
    "        self.strong=strong\n",
    "        self.dexterity=dexterity\n",
    "        self.iq=iq\n",
    "        self.speed=speed\n",
    "        self.damage=damage \n",
    "class EvilTrader:\n",
    "    hp: float|int=170\n",
    "    strong: float|int=23\n",
    "    dexterity: float|int=56\n",
    "    iq: float|int=89\n",
    "    speed: float|int=123\n",
    "    damage: float|int=62\n",
    "    def __init__(self, hp, strong, dexterity,iq,speed,damage):\n",
    "        self.hp=hp\n",
    "        self.strong=strong\n",
    "        self.dexterity=dexterity\n",
    "        self.iq=iq\n",
    "        self.speed=speed\n",
    "        self.damage=damage \n",
    "\n",
    "goodhero=GoodHero(\"Future\",100,50,85,90,45,89)\n",
    "evilhero=EvilTrader(\"Path\",150,56,78,123,57,61)\n",
    "print(goodhero)\n",
    "print(evilhero)\n"
   ]
  },
  {
   "cell_type": "code",
   "execution_count": null,
   "id": "ec47db78-214f-4268-88b4-6fd49e61cb36",
   "metadata": {},
   "outputs": [],
   "source": []
  },
  {
   "cell_type": "code",
   "execution_count": null,
   "id": "7b10356b-bd86-48e3-8243-0ea884332668",
   "metadata": {},
   "outputs": [],
   "source": []
  }
 ],
 "metadata": {
  "kernelspec": {
   "display_name": "Python 3 (ipykernel)",
   "language": "python",
   "name": "python3"
  },
  "language_info": {
   "codemirror_mode": {
    "name": "ipython",
    "version": 3
   },
   "file_extension": ".py",
   "mimetype": "text/x-python",
   "name": "python",
   "nbconvert_exporter": "python",
   "pygments_lexer": "ipython3",
   "version": "3.11.2"
  }
 },
 "nbformat": 4,
 "nbformat_minor": 5
}
