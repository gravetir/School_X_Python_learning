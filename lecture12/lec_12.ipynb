{
 "cells": [
  {
   "cell_type": "code",
   "execution_count": 7,
   "metadata": {},
   "outputs": [
    {
     "name": "stdout",
     "output_type": "stream",
     "text": [
      "['PassengerId', 'Pclass', 'Name', 'Sex', 'Age', 'SibSp', 'Parch', 'Ticket', 'Fare', 'Cabin', 'Embarked']\n",
      "['892', '3', '\"Kelly', ' Mr. James\"', 'male', '34.5', '0', '0', '330911', '7.8292', '', 'Q']\n",
      "['893', '3', '\"Wilkes', ' Mrs. James (Ellen Needs)\"', 'female', '47', '1', '0', '363272', '7', '', 'S']\n",
      "['894', '2', '\"Myles', ' Mr. Thomas Francis\"', 'male', '62', '0', '0', '240276', '9.6875', '', 'Q']\n",
      "['895', '3', '\"Wirz', ' Mr. Albert\"', 'male', '27', '0', '0', '315154', '8.6625', '', 'S']\n",
      "['896', '3', '\"Hirvonen', ' Mrs. Alexander (Helga E Lindqvist)\"', 'female', '22', '1', '1', '3101298', '12.2875', '', 'S']\n",
      "['897', '3', '\"Svensson', ' Mr. Johan Cervin\"', 'male', '14', '0', '0', '7538', '9.225', '', 'S']\n",
      "['898', '3', '\"Connolly', ' Miss. Kate\"', 'female', '30', '0', '0', '330972', '7.6292', '', 'Q']\n",
      "['899', '2', '\"Caldwell', ' Mr. Albert Francis\"', 'male', '26', '1', '1', '248738', '29', '', 'S']\n",
      "['900', '3', '\"Abrahim', ' Mrs. Joseph (Sophie Halaut Easu)\"', 'female', '18', '0', '0', '2657', '7.2292', '', 'C']\n"
     ]
    }
   ],
   "source": [
    "file = open('test.csv', 'r')\n",
    "file_lines=file.readlines()\n",
    "for i in range(10):\n",
    "    print(file_lines[i].strip('\\n').split(','))\n",
    "file.close()"
   ]
  },
  {
   "cell_type": "code",
   "execution_count": 21,
   "metadata": {},
   "outputs": [
    {
     "name": "stdout",
     "output_type": "stream",
     "text": [
      "PassengerId,Pclass,Name,Sex,Age,SibSp,Parch,Ticket,Fare,Cabin,Embarked\n",
      "892,3,\"Kelly, Mr. James\",male\n",
      ",34.5,0,0,330911,7.8292,,Q\n",
      "893,3,\"Wilkes, Mrs. James (Ellen Needs)\",female,47,1,0,363272,7,,S\n",
      "894,2,\n"
     ]
    }
   ],
   "source": [
    "with open('test.csv', 'r', encoding='ascii') as file:\n",
    "    print(file.read(100))\n",
    "    print(file.read(100))\n",
    "    # for i in range(20):\n",
    "    #     print(file.read(i))"
   ]
  },
  {
   "cell_type": "code",
   "execution_count": 25,
   "metadata": {},
   "outputs": [
    {
     "ename": "ValueError",
     "evalue": "invalid literal for int() with base 10: ''",
     "output_type": "error",
     "traceback": [
      "\u001b[1;31m---------------------------------------------------------------------------\u001b[0m",
      "\u001b[1;31mValueError\u001b[0m                                Traceback (most recent call last)",
      "\u001b[1;32mc:\\Users\\Дима Титаренко\\Desktop\\Python\\lecture12\\lec_12.ipynb Cell 3\u001b[0m line \u001b[0;36m1\n\u001b[1;32m----> <a href='vscode-notebook-cell:/c%3A/Users/%D0%94%D0%B8%D0%BC%D0%B0%20%D0%A2%D0%B8%D1%82%D0%B0%D1%80%D0%B5%D0%BD%D0%BA%D0%BE/Desktop/Python/lecture12/lec_12.ipynb#W4sZmlsZQ%3D%3D?line=0'>1</a>\u001b[0m a \u001b[39m=\u001b[39m \u001b[39mint\u001b[39;49m(\u001b[39minput\u001b[39;49m(\u001b[39m'\u001b[39;49m\u001b[39m1: \u001b[39;49m\u001b[39m'\u001b[39;49m))\n\u001b[0;32m      <a href='vscode-notebook-cell:/c%3A/Users/%D0%94%D0%B8%D0%BC%D0%B0%20%D0%A2%D0%B8%D1%82%D0%B0%D1%80%D0%B5%D0%BD%D0%BA%D0%BE/Desktop/Python/lecture12/lec_12.ipynb#W4sZmlsZQ%3D%3D?line=1'>2</a>\u001b[0m b \u001b[39m=\u001b[39m \u001b[39mint\u001b[39m(\u001b[39minput\u001b[39m(\u001b[39m'\u001b[39m\u001b[39m2: \u001b[39m\u001b[39m'\u001b[39m))\n\u001b[0;32m      <a href='vscode-notebook-cell:/c%3A/Users/%D0%94%D0%B8%D0%BC%D0%B0%20%D0%A2%D0%B8%D1%82%D0%B0%D1%80%D0%B5%D0%BD%D0%BA%D0%BE/Desktop/Python/lecture12/lec_12.ipynb#W4sZmlsZQ%3D%3D?line=3'>4</a>\u001b[0m \u001b[39mwith\u001b[39;00m \u001b[39mopen\u001b[39m(\u001b[39m'\u001b[39m\u001b[39mout.txt\u001b[39m\u001b[39m'\u001b[39m,\u001b[39m'\u001b[39m\u001b[39mw+\u001b[39m\u001b[39m'\u001b[39m, encoding\u001b[39m=\u001b[39m\u001b[39m'\u001b[39m\u001b[39mutf-8\u001b[39m\u001b[39m'\u001b[39m) \u001b[39mas\u001b[39;00m wfile:\n",
      "\u001b[1;31mValueError\u001b[0m: invalid literal for int() with base 10: ''"
     ]
    }
   ],
   "source": [
    "a = int(input('1: '))\n",
    "b = int(input('2: '))\n",
    "\n",
    "with open('out.txt','w+', encoding='utf-8') as wfile:\n",
    "    wfile.write(f' {a**2} + {b**3} = {a**2 + b**3}\\n')\n",
    "    wfile.write(f' {a} + {b} = {a+b}\\n')\n",
    "wfile.readable()"
   ]
  },
  {
   "cell_type": "code",
   "execution_count": 20,
   "metadata": {},
   "outputs": [],
   "source": [
    "with open('b_out.txt',\"wb+\") as wbfile:\n",
    "    wbfile.write(b'HELLO BOBBY!!!! 31313,53252rw[GSDG]][TER]T')"
   ]
  },
  {
   "cell_type": "code",
   "execution_count": null,
   "metadata": {},
   "outputs": [],
   "source": []
  }
 ],
 "metadata": {
  "kernelspec": {
   "display_name": "Python 3",
   "language": "python",
   "name": "python3"
  },
  "language_info": {
   "codemirror_mode": {
    "name": "ipython",
    "version": 3
   },
   "file_extension": ".py",
   "mimetype": "text/x-python",
   "name": "python",
   "nbconvert_exporter": "python",
   "pygments_lexer": "ipython3",
   "version": "3.11.2"
  }
 },
 "nbformat": 4,
 "nbformat_minor": 2
}
