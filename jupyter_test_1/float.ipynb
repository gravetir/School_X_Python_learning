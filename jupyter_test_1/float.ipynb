{
 "cells": [
  {
   "cell_type": "code",
   "execution_count": 1,
   "id": "a5dafc8a-e34f-43b3-a6d8-1a960f72fa21",
   "metadata": {},
   "outputs": [
    {
     "ename": "SyntaxError",
     "evalue": "incomplete input (4131837784.py, line 1)",
     "output_type": "error",
     "traceback": [
      "\u001b[1;36m  Cell \u001b[1;32mIn[1], line 1\u001b[1;36m\u001b[0m\n\u001b[1;33m    assert[0.1+0.2==0.3\u001b[0m\n\u001b[1;37m                       ^\u001b[0m\n\u001b[1;31mSyntaxError\u001b[0m\u001b[1;31m:\u001b[0m incomplete input\n"
     ]
    }
   ],
   "source": [
    "assert[0.1+0.2==0.3"
   ]
  },
  {
   "cell_type": "code",
   "execution_count": null,
   "id": "c9a862ab-7ba6-4361-88e3-220b6a6c632f",
   "metadata": {},
   "outputs": [],
   "source": [
    "0.2+0.4"
   ]
  },
  {
   "cell_type": "code",
   "execution_count": null,
   "id": "ee9421b0-1956-4822-b3ce-a90f6b3d44e0",
   "metadata": {},
   "outputs": [],
   "source": [
    "a=0.1\n",
    "b=0.2\n",
    "a+b"
   ]
  },
  {
   "cell_type": "code",
   "execution_count": null,
   "id": "86a14d8b-0797-498d-a906-4f81a9ca8773",
   "metadata": {},
   "outputs": [],
   "source": [
    "0.2/2\n"
   ]
  },
  {
   "cell_type": "code",
   "execution_count": null,
   "id": "43968766-8e90-42ec-a5a1-025e5f79a2f9",
   "metadata": {},
   "outputs": [],
   "source": [
    "a+b+2.0"
   ]
  },
  {
   "cell_type": "code",
   "execution_count": null,
   "id": "4aa0cf80-4a51-41db-84c9-e99ee6deee9d",
   "metadata": {},
   "outputs": [],
   "source": [
    "%pip insall -q numpy\n"
   ]
  },
  {
   "cell_type": "code",
   "execution_count": null,
   "id": "2f728e1a-d7b8-492c-8df6-2f81eda3bacc",
   "metadata": {},
   "outputs": [],
   "source": [
    "%pip install -q nympy\n"
   ]
  },
  {
   "cell_type": "code",
   "execution_count": null,
   "id": "31790c48-714e-4111-b6a2-f6d2eb2a09eb",
   "metadata": {},
   "outputs": [],
   "source": [
    "python.exe -m pip install --upgrade pip"
   ]
  },
  {
   "cell_type": "code",
   "execution_count": null,
   "id": "20c82cee-8c01-4334-943e-7c616a794ffd",
   "metadata": {},
   "outputs": [],
   "source": [
    "-m pip install --upgrade pip"
   ]
  },
  {
   "cell_type": "code",
   "execution_count": null,
   "id": "983fd004-02f9-4b55-95a0-c968fc7002d4",
   "metadata": {},
   "outputs": [],
   "source": [
    "a=np.float32(0.1)\n",
    "b=np.float32(0.2)\n",
    "a+b"
   ]
  },
  {
   "cell_type": "code",
   "execution_count": null,
   "id": "bb67afa5-176c-4a63-a6ae-3de0d83ad380",
   "metadata": {},
   "outputs": [],
   "source": [
    "%pip install -q numpy\n"
   ]
  },
  {
   "cell_type": "code",
   "execution_count": null,
   "id": "c57120fd-1d45-485b-8a77-0e788aac097a",
   "metadata": {},
   "outputs": [],
   "source": [
    "%%timeit\n",
    "a=np.float32(0.1)\n",
    "b=np.float32(0.2)\n",
    "a+b"
   ]
  },
  {
   "cell_type": "code",
   "execution_count": null,
   "id": "eae08542-26ae-4ee5-a570-9030074f520b",
   "metadata": {},
   "outputs": [],
   "source": [
    "%%timeit\n",
    "a=0.1\n",
    "\n",
    "b=0.2\n",
    "a+b"
   ]
  },
  {
   "cell_type": "code",
   "execution_count": null,
   "id": "a6fb46f0-174f-4b16-99da-49c6b8e33eb3",
   "metadata": {},
   "outputs": [],
   "source": [
    "%pip install -q numpy"
   ]
  },
  {
   "cell_type": "code",
   "execution_count": null,
   "id": "d6f0a2e0-70cd-4fd6-9c2f-4b851e245389",
   "metadata": {},
   "outputs": [],
   "source": [
    "%pip install -q numpy"
   ]
  },
  {
   "cell_type": "code",
   "execution_count": null,
   "id": "b5745174-ee0f-4619-b30d-0b8f87ff1a66",
   "metadata": {},
   "outputs": [],
   "source": [
    "1+2"
   ]
  },
  {
   "cell_type": "code",
   "execution_count": null,
   "id": "90a16c08-8873-4d93-a446-9b4cef38fedf",
   "metadata": {},
   "outputs": [],
   "source": []
  },
  {
   "cell_type": "code",
   "execution_count": null,
   "id": "f3afb670-24c3-4b33-a917-8de241b9015b",
   "metadata": {},
   "outputs": [],
   "source": [
    "1+2"
   ]
  },
  {
   "cell_type": "code",
   "execution_count": null,
   "id": "a40103e4-f334-4a83-955c-f43cbed1d1c5",
   "metadata": {},
   "outputs": [],
   "source": [
    "%pip install -q tqdm ipwidgets"
   ]
  },
  {
   "cell_type": "code",
   "execution_count": null,
   "id": "a7189c6b-66b9-44b3-b2d9-ba9e7a51ce8b",
   "metadata": {},
   "outputs": [],
   "source": [
    "%pip install -q tqdm ipywidgets"
   ]
  },
  {
   "cell_type": "code",
   "execution_count": null,
   "id": "f6d2642d-fae0-4aa1-93de-9ae66bfe05e4",
   "metadata": {},
   "outputs": [],
   "source": [
    "import time\n",
    "from tqdm.auto import tqdm\n",
    "a=range(0,1000)\n",
    "b=[]\n",
    "for el in tqdm(a):\n",
    "    b.append(el**2)\n",
    "    time.sleep(1)\n",
    "print(b)"
   ]
  },
  {
   "cell_type": "code",
   "execution_count": 16,
   "id": "1470ee55-039e-49e4-8d9d-e3ffc6424bad",
   "metadata": {},
   "outputs": [
    {
     "data": {
      "application/vnd.jupyter.widget-view+json": {
       "model_id": "62912b0dc30842c3b8473a66bc049a62",
       "version_major": 2,
       "version_minor": 0
      },
      "text/plain": [
       "  0%|          | 0/10000 [00:00<?, ?it/s]"
      ]
     },
     "metadata": {},
     "output_type": "display_data"
    }
   ],
   "source": [
    "import time\n",
    "from tqdm.auto import tqdm\n",
    "a=range(0,10000)\n",
    "b=[]\n",
    "for el in tqdm(a):\n",
    "    b.append(el**2)\n",
    "    time.sleep(0.00000000001)"
   ]
  },
  {
   "cell_type": "code",
   "execution_count": null,
   "id": "304ea6af-beaa-4fc3-beca-c44d0ec65186",
   "metadata": {},
   "outputs": [],
   "source": []
  }
 ],
 "metadata": {
  "kernelspec": {
   "display_name": "Python 3 (ipykernel)",
   "language": "python",
   "name": "python3"
  },
  "language_info": {
   "codemirror_mode": {
    "name": "ipython",
    "version": 3
   },
   "file_extension": ".py",
   "mimetype": "text/x-python",
   "name": "python",
   "nbconvert_exporter": "python",
   "pygments_lexer": "ipython3",
   "version": "3.11.2"
  }
 },
 "nbformat": 4,
 "nbformat_minor": 5
}
