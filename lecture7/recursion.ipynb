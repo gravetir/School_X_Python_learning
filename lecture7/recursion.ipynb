{
 "cells": [
  {
   "cell_type": "code",
   "execution_count": null,
   "id": "80f5fc71-5d5a-493b-b918-8585936d9131",
   "metadata": {},
   "outputs": [],
   "source": []
  },
  {
   "cell_type": "code",
   "execution_count": 1,
   "id": "7bf8fe90-b1d7-4df7-8c61-012d3d949482",
   "metadata": {},
   "outputs": [],
   "source": [
    "tree = {\n",
    "   1: {\n",
    "       1: {\n",
    "            1: 'text',\n",
    "            2: 'text',\n",
    "            3: 'text',\n",
    "        },\n",
    "    },\n",
    "    2: {\n",
    "        1: {\n",
    "            1: {\n",
    "                1: {\n",
    "                    1: 'folder',\n",
    "                    1: 'folder',\n",
    "                    1: 'target_folder',\n",
    "                },\n",
    "                2: [1, 2, 3]\n",
    "            }\n",
    "        }\n",
    "    },\n",
    "}"
   ]
  },
  {
   "cell_type": "code",
   "execution_count": 2,
   "id": "641de93a-dd6e-4cdb-a916-894dae45b93d",
   "metadata": {},
   "outputs": [
    {
     "ename": "SyntaxError",
     "evalue": "invalid syntax (2867630013.py, line 2)",
     "output_type": "error",
     "traceback": [
      "\u001b[1;36m  Cell \u001b[1;32mIn[2], line 2\u001b[1;36m\u001b[0m\n\u001b[1;33m    for key value is true:\u001b[0m\n\u001b[1;37m            ^\u001b[0m\n\u001b[1;31mSyntaxError\u001b[0m\u001b[1;31m:\u001b[0m invalid syntax\n"
     ]
    }
   ],
   "source": [
    "def rec_find(tree: dict,name:str):\n",
    "    for key value is true:\n",
    "        if key isinstance(value,dict):\n",
    "            print(value,name)\n",
    "        else:\n",
    "            if value==main:\n",
    "                print('find')\n",
    "                break\n",
    "        print('asd')"
   ]
  },
  {
   "cell_type": "code",
   "execution_count": null,
   "id": "3b8a2494-8bb6-4424-b6d9-16b21c262644",
   "metadata": {},
   "outputs": [],
   "source": [
    "k=2\n",
    "type(K)"
   ]
  },
  {
   "cell_type": "code",
   "execution_count": null,
   "id": "ee87f8ed-76d5-496a-8ff8-acb84bd30c81",
   "metadata": {},
   "outputs": [],
   "source": [
    "isinstance(k,str)"
   ]
  },
  {
   "cell_type": "code",
   "execution_count": null,
   "id": "c7a1b342-5ea8-4051-9827-de344f468be3",
   "metadata": {},
   "outputs": [],
   "source": []
  }
 ],
 "metadata": {
  "kernelspec": {
   "display_name": "Python 3 (ipykernel)",
   "language": "python",
   "name": "python3"
  },
  "language_info": {
   "codemirror_mode": {
    "name": "ipython",
    "version": 3
   },
   "file_extension": ".py",
   "mimetype": "text/x-python",
   "name": "python",
   "nbconvert_exporter": "python",
   "pygments_lexer": "ipython3",
   "version": "3.11.2"
  }
 },
 "nbformat": 4,
 "nbformat_minor": 5
}
