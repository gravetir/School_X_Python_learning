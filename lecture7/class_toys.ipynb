{
 "cells": [
  {
   "cell_type": "code",
   "execution_count": 1,
   "id": "08398415-6892-4041-bebd-5065e630b6b3",
   "metadata": {},
   "outputs": [],
   "source": [
    "class Funko:\n",
    "    def attack(self):\n",
    "        print('Attack successful')\n",
    "    def walk(self):\n",
    "        print('Walking')\n",
    "    def durability(self):\n",
    "        print('Defence good')\n",
    "    def speak(self):\n",
    "        print('Talk to be attacker the house or be defender the point')\n",
    "class Playable:\n",
    "    def attack(self):\n",
    "        print('Attack successful')\n",
    "    def durability(self):\n",
    "        print('Defence successful')\n",
    "    def speed(self):\n",
    "        print('Speed good')"
   ]
  },
  {
   "cell_type": "code",
   "execution_count": 2,
   "id": "301dc7b0-fa39-4b12-b9d7-8c47c617a458",
   "metadata": {},
   "outputs": [
    {
     "ename": "SyntaxError",
     "evalue": "invalid syntax. Perhaps you forgot a comma? (3995518563.py, line 8)",
     "output_type": "error",
     "traceback": [
      "\u001b[1;36m  Cell \u001b[1;32mIn[2], line 8\u001b[1;36m\u001b[0m\n\u001b[1;33m    attack_op=80\u001b[0m\n\u001b[1;37m              ^\u001b[0m\n\u001b[1;31mSyntaxError\u001b[0m\u001b[1;31m:\u001b[0m invalid syntax. Perhaps you forgot a comma?\n"
     ]
    }
   ],
   "source": [
    "class Charater:\n",
    "    self,\n",
    "    attack_op=80\n",
    "    defence_op=150\n",
    "    walking_speed=87\n",
    "    def __init__(\n",
    "        self,\n",
    "        attack_op=80\n",
    "        defence_op=150\n",
    "        walking_speed=87\n",
    "    ):\n",
    "        self.attack_op=attack_op\n",
    "        self.defence_op=defence_op\n",
    "        self.walking_speed=walking_speed\n",
    "class Operators(\n",
    "    Charater,\n",
    "    Funko,\n",
    "    Playable\n",
    "):\n",
    "    pass\n",
    "class Kapkan(Playable):\n",
    "    strong_ability:float|int=60\n",
    "    impact_grenade:float|int=50\n",
    "    def __init__(\n",
    "        self,\n",
    "        strong_ability:float|int=60\n",
    "        impact_grenade:float|int=50\n",
    "    ):\n",
    "        self.strong_ability=strong_ability\n",
    "        self.impact_grenade=impact_grenade\n",
    "\n",
    "class Iana(Funko):\n",
    "    strong_ability:str=None\n",
    "    frag_grenate|int=100\n",
    "    def __init__(\n",
    "        self,\n",
    "        strong_ability:str=None\n",
    "        hardBreachCharge:float|int=100\n",
    "    ):\n",
    "        self.strong_ability=strong_ability\n",
    "        self.dissable_wall=dissable_wall\n",
    "class Cav(Playable):\n",
    "    strong_ability:float|int=100\n",
    "    impact_grenade:float|int=50\n",
    "    def __init__(\n",
    "        self,\n",
    "        strong_ability:float|int=100\n",
    "        impact_grenade:float|int=50\n",
    "    ):\n",
    "        self.strong_ability=strong_ability\n",
    "        self.impact_grenade=impact_grenade"
   ]
  },
  {
   "cell_type": "code",
   "execution_count": null,
   "id": "51420785-4355-420b-9a71-32d5cbbed361",
   "metadata": {},
   "outputs": [],
   "source": [
    "attacker1=Iana()\n",
    "defender1=Kapkan()\n",
    "defender2=Cav()\n",
    "print(attacker1.speed)\n",
    "print(defender1."
   ]
  }
 ],
 "metadata": {
  "kernelspec": {
   "display_name": "Python 3 (ipykernel)",
   "language": "python",
   "name": "python3"
  },
  "language_info": {
   "codemirror_mode": {
    "name": "ipython",
    "version": 3
   },
   "file_extension": ".py",
   "mimetype": "text/x-python",
   "name": "python",
   "nbconvert_exporter": "python",
   "pygments_lexer": "ipython3",
   "version": "3.11.2"
  }
 },
 "nbformat": 4,
 "nbformat_minor": 5
}
