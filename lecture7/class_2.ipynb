{
 "cells": [
  {
   "cell_type": "code",
   "execution_count": null,
   "id": "05199050-8059-4d56-96a4-be1ecfb46c1a",
   "metadata": {},
   "outputs": [],
   "source": [
    "class WingsT:\n",
    "    def flu(self):\n",
    "        print('fly')\n",
    "class Walking:\n",
    "    def walk(self):\n",
    "        print('wallk')\n",
    "class BirdTalk:\n",
    "    def talk(self):\n",
    "        print('talk')"
   ]
  },
  {
   "cell_type": "code",
   "execution_count": 1,
   "id": "f1c59447-fe60-4242-a346-a34cfdddcbdc",
   "metadata": {},
   "outputs": [
    {
     "ename": "SyntaxError",
     "evalue": "expected '(' (971593159.py, line 2)",
     "output_type": "error",
     "traceback": [
      "\u001b[1;36m  Cell \u001b[1;32mIn[1], line 2\u001b[1;36m\u001b[0m\n\u001b[1;33m    def __init__{\u001b[0m\n\u001b[1;37m                ^\u001b[0m\n\u001b[1;31mSyntaxError\u001b[0m\u001b[1;31m:\u001b[0m expected '('\n"
     ]
    }
   ],
   "source": [
    "class bird:\n",
    "    self,\n",
    "    wings_legth:float=12.5\n",
    "    legs_length: float=1.5\n",
    "    color:str='red'\n",
    "    def __init__(\n",
    "        self,\n",
    "        wings_legth:float=12.5\n",
    "        legs_length: float=1.5\n",
    "        color:str='red'\n",
    "    ):\n",
    "        self.wings_length=wings_length\n",
    "        self.legs_length=legs_length\n",
    "        self.color=color\n",
    "        print('red brill')\n",
    "    def none_noise(self):\n",
    "        print('noise')\n",
    "class WoodToy:\n",
    "    def __init__(\n",
    "        toxic: bool=False\n",
    "        size_1: float=12\n",
    "        color:str='yellow'\n",
    "    ):\n",
    "        self.toxic:bool=toxic\n",
    "        self.size_1:float=size_1\n",
    "        self.color:str=color\n",
    "        print('instiliation')\n",
    "    def boonce(self):\n",
    "        print('plates')\n",
    "    def conform(self):\n",
    "        print('warning line')\n",
    "    def make_noise(self):\n",
    "        print('peep')\n",
    "            \n"
   ]
  },
  {
   "cell_type": "code",
   "execution_count": 2,
   "id": "501e8f56-54f0-44b0-8c74-8d07ffaa42f9",
   "metadata": {},
   "outputs": [
    {
     "ename": "NameError",
     "evalue": "name 'bird' is not defined",
     "output_type": "error",
     "traceback": [
      "\u001b[1;31m---------------------------------------------------------------------------\u001b[0m",
      "\u001b[1;31mNameError\u001b[0m                                 Traceback (most recent call last)",
      "Cell \u001b[1;32mIn[2], line 1\u001b[0m\n\u001b[1;32m----> 1\u001b[0m bird1\u001b[38;5;241m=\u001b[39m\u001b[43mbird\u001b[49m()\n",
      "\u001b[1;31mNameError\u001b[0m: name 'bird' is not defined"
     ]
    }
   ],
   "source": [
    "bird1=bird()"
   ]
  },
  {
   "cell_type": "code",
   "execution_count": null,
   "id": "b12d703d-60fd-4425-8c4d-31d99e2f5ead",
   "metadata": {},
   "outputs": [],
   "source": [
    "class rubber_bird(bird,WoodToy):\n",
    "    pass"
   ]
  },
  {
   "cell_type": "code",
   "execution_count": 3,
   "id": "77b16bcf-7ddf-47eb-9283-3de047305ee6",
   "metadata": {},
   "outputs": [
    {
     "ename": "NameError",
     "evalue": "name 'rubber_bird' is not defined",
     "output_type": "error",
     "traceback": [
      "\u001b[1;31m---------------------------------------------------------------------------\u001b[0m",
      "\u001b[1;31mNameError\u001b[0m                                 Traceback (most recent call last)",
      "Cell \u001b[1;32mIn[3], line 1\u001b[0m\n\u001b[1;32m----> 1\u001b[0m \u001b[43mrubber_bird\u001b[49m\u001b[38;5;241m.\u001b[39mfly()\n",
      "\u001b[1;31mNameError\u001b[0m: name 'rubber_bird' is not defined"
     ]
    }
   ],
   "source": [
    "rubber_bird.fly()"
   ]
  },
  {
   "cell_type": "code",
   "execution_count": null,
   "id": "4ae7be21-d817-45cb-9e25-4a877c23ef91",
   "metadata": {},
   "outputs": [],
   "source": [
    "rubber_bird.make_noise()"
   ]
  },
  {
   "cell_type": "code",
   "execution_count": null,
   "id": "563f9a31-b502-4934-95e1-b0dd7d98498e",
   "metadata": {},
   "outputs": [],
   "source": []
  }
 ],
 "metadata": {
  "kernelspec": {
   "display_name": "Python 3 (ipykernel)",
   "language": "python",
   "name": "python3"
  },
  "language_info": {
   "codemirror_mode": {
    "name": "ipython",
    "version": 3
   },
   "file_extension": ".py",
   "mimetype": "text/x-python",
   "name": "python",
   "nbconvert_exporter": "python",
   "pygments_lexer": "ipython3",
   "version": "3.11.2"
  }
 },
 "nbformat": 4,
 "nbformat_minor": 5
}
