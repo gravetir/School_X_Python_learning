{
 "cells": [
  {
   "cell_type": "code",
   "execution_count": 21,
   "metadata": {},
   "outputs": [],
   "source": [
    "class MosquitosCloud:\n",
    "    # damage_per_mosquito: float = 1.7\n",
    "    # mosquitos_in_cloud = 5\n",
    "    def __init__(self,\n",
    "                 damage_per_mosquito:float=1.7,\n",
    "                 mosquitoes_in_cloud:int=5\n",
    "                 ):\n",
    "                    if damage_per_mosquito is not None and mosquitoes_in_cloud is not None:\n",
    "                        self.damage_per_mosquito=damage_per_mosquito\n",
    "                        self.mosquitos_in_cloud=mosquitoes_in_cloud\n",
    "                        self.damage=damage_per_mosquito/mosquitoes_in_cloud\n",
    "                    else:\n",
    "                        raise ValueError('pLS provide correct valiables')\n",
    "    def __add__(self:'MosquitosCloud',other:'MosquitosCloud') -> 'MosquitosCloud':\n",
    "        new_mosquitoes_cloud= MosquitosCloud(damage_per_mosquito=(self.damage_per_mosquito+other.damage_per_mosquito)/2,\n",
    "                                                mosquitoes_in_cloud=self.mosquitoes_in_cloud+other.mosquitoes_in_cloud)\n",
    "        return new_mosquitoes_cloud\n",
    "    def __lt__(self,other):\n",
    "            return self.mosquitos_in_cloud<other.mosquitos_in_cloud        "
   ]
  },
  {
   "cell_type": "code",
   "execution_count": 22,
   "metadata": {},
   "outputs": [],
   "source": [
    "mcloud1=MosquitosCloud()"
   ]
  },
  {
   "cell_type": "code",
   "execution_count": 23,
   "metadata": {},
   "outputs": [
    {
     "data": {
      "text/plain": [
       "0.33999999999999997"
      ]
     },
     "execution_count": 23,
     "metadata": {},
     "output_type": "execute_result"
    }
   ],
   "source": [
    "mcloud1.damage"
   ]
  },
  {
   "cell_type": "code",
   "execution_count": 24,
   "metadata": {},
   "outputs": [
    {
     "data": {
      "text/plain": [
       "0.16999999999999998"
      ]
     },
     "execution_count": 24,
     "metadata": {},
     "output_type": "execute_result"
    }
   ],
   "source": [
    "mcloud2=MosquitosCloud(\n",
    "    damage_per_mosquito=2.0,\n",
    "    mosquitoes_in_cloud=10\n",
    ")\n",
    "mcloud2.damage"
   ]
  },
  {
   "cell_type": "code",
   "execution_count": 2,
   "metadata": {},
   "outputs": [
    {
     "ename": "NameError",
     "evalue": "name 'mcloud2' is not defined",
     "output_type": "error",
     "traceback": [
      "\u001b[1;31m---------------------------------------------------------------------------\u001b[0m",
      "\u001b[1;31mNameError\u001b[0m                                 Traceback (most recent call last)",
      "\u001b[1;32mc:\\Users\\Дима Титаренко\\Desktop\\Python\\lecture8\\matrix.ipynb Cell 5\u001b[0m line \u001b[0;36m1\n\u001b[1;32m----> <a href='vscode-notebook-cell:/c%3A/Users/%D0%94%D0%B8%D0%BC%D0%B0%20%D0%A2%D0%B8%D1%82%D0%B0%D1%80%D0%B5%D0%BD%D0%BA%D0%BE/Desktop/Python/lecture8/matrix.ipynb#W6sZmlsZQ%3D%3D?line=0'>1</a>\u001b[0m mcloud3\u001b[39m=\u001b[39mmcloud2\u001b[39m+\u001b[39mmcloud2\n\u001b[0;32m      <a href='vscode-notebook-cell:/c%3A/Users/%D0%94%D0%B8%D0%BC%D0%B0%20%D0%A2%D0%B8%D1%82%D0%B0%D1%80%D0%B5%D0%BD%D0%BA%D0%BE/Desktop/Python/lecture8/matrix.ipynb#W6sZmlsZQ%3D%3D?line=1'>2</a>\u001b[0m mcloud3\u001b[39m.\u001b[39mdamage, mcloud3\u001b[39m.\u001b[39mdamage_per_mosquito,mcloud3\u001b[39m.\u001b[39mmosquitos_in_cloud\n",
      "\u001b[1;31mNameError\u001b[0m: name 'mcloud2' is not defined"
     ]
    }
   ],
   "source": [
    "mcloud3=mcloud1+mcloud2\n",
    "mcloud3.damage, mcloud3.damage_per_mosquito,mcloud3.mosquitos_in_cloud"
   ]
  },
  {
   "cell_type": "code",
   "execution_count": 3,
   "metadata": {
    "notebookRunGroups": {
     "groupValue": "1"
    }
   },
   "outputs": [
    {
     "ename": "NameError",
     "evalue": "name 'mcloud1' is not defined",
     "output_type": "error",
     "traceback": [
      "\u001b[1;31m---------------------------------------------------------------------------\u001b[0m",
      "\u001b[1;31mNameError\u001b[0m                                 Traceback (most recent call last)",
      "\u001b[1;32mc:\\Users\\Дима Титаренко\\Desktop\\Python\\lecture8\\matrix.ipynb Cell 6\u001b[0m line \u001b[0;36m1\n\u001b[1;32m----> <a href='vscode-notebook-cell:/c%3A/Users/%D0%94%D0%B8%D0%BC%D0%B0%20%D0%A2%D0%B8%D1%82%D0%B0%D1%80%D0%B5%D0%BD%D0%BA%D0%BE/Desktop/Python/lecture8/matrix.ipynb#X10sZmlsZQ%3D%3D?line=0'>1</a>\u001b[0m mcloud1 \u001b[39m<\u001b[39m mcloud2\n",
      "\u001b[1;31mNameError\u001b[0m: name 'mcloud1' is not defined"
     ]
    }
   ],
   "source": [
    "mcloud1 < mcloud2"
   ]
  },
  {
   "cell_type": "code",
   "execution_count": 4,
   "metadata": {},
   "outputs": [
    {
     "ename": "NameError",
     "evalue": "name 'mcloud2' is not defined",
     "output_type": "error",
     "traceback": [
      "\u001b[1;31m---------------------------------------------------------------------------\u001b[0m",
      "\u001b[1;31mNameError\u001b[0m                                 Traceback (most recent call last)",
      "\u001b[1;32mc:\\Users\\Дима Титаренко\\Desktop\\Python\\lecture8\\matrix.ipynb Cell 7\u001b[0m line \u001b[0;36m1\n\u001b[1;32m----> <a href='vscode-notebook-cell:/c%3A/Users/%D0%94%D0%B8%D0%BC%D0%B0%20%D0%A2%D0%B8%D1%82%D0%B0%D1%80%D0%B5%D0%BD%D0%BA%D0%BE/Desktop/Python/lecture8/matrix.ipynb#X11sZmlsZQ%3D%3D?line=0'>1</a>\u001b[0m mcloud2\u001b[39m==\u001b[39mmcloud2\n",
      "\u001b[1;31mNameError\u001b[0m: name 'mcloud2' is not defined"
     ]
    }
   ],
   "source": [
    "mcloud2.mosquitos_in_cloud==mcloud2.mosquitos_in_cloud"
   ]
  },
  {
   "cell_type": "code",
   "execution_count": 5,
   "metadata": {},
   "outputs": [
    {
     "ename": "NameError",
     "evalue": "name 'mcloud1' is not defined",
     "output_type": "error",
     "traceback": [
      "\u001b[1;31m---------------------------------------------------------------------------\u001b[0m",
      "\u001b[1;31mNameError\u001b[0m                                 Traceback (most recent call last)",
      "\u001b[1;32mc:\\Users\\Дима Титаренко\\Desktop\\Python\\lecture8\\matrix.ipynb Cell 8\u001b[0m line \u001b[0;36m1\n\u001b[1;32m----> <a href='vscode-notebook-cell:/c%3A/Users/%D0%94%D0%B8%D0%BC%D0%B0%20%D0%A2%D0%B8%D1%82%D0%B0%D1%80%D0%B5%D0%BD%D0%BA%D0%BE/Desktop/Python/lecture8/matrix.ipynb#X12sZmlsZQ%3D%3D?line=0'>1</a>\u001b[0m mcloud1\u001b[39m.\u001b[39mmosquitos_in_cloud\u001b[39m=\u001b[39m\u001b[39m10\u001b[39m\n\u001b[0;32m      <a href='vscode-notebook-cell:/c%3A/Users/%D0%94%D0%B8%D0%BC%D0%B0%20%D0%A2%D0%B8%D1%82%D0%B0%D1%80%D0%B5%D0%BD%D0%BA%D0%BE/Desktop/Python/lecture8/matrix.ipynb#X12sZmlsZQ%3D%3D?line=1'>2</a>\u001b[0m mcloud1\u001b[39m.\u001b[39mmosquitos_in_cloud, mcloud2\u001b[39m.\u001b[39mmosquitos_in_cloud\n",
      "\u001b[1;31mNameError\u001b[0m: name 'mcloud1' is not defined"
     ]
    }
   ],
   "source": [
    "mcloud1.mosquitos_in_cloud=10\n",
    "mcloud1.mosquitos_in_cloud, mcloud2.mosquitos_in_cloud"
   ]
  },
  {
   "cell_type": "code",
   "execution_count": null,
   "metadata": {},
   "outputs": [],
   "source": []
  }
 ],
 "metadata": {
  "kernelspec": {
   "display_name": "Python 3",
   "language": "python",
   "name": "python3"
  },
  "language_info": {
   "codemirror_mode": {
    "name": "ipython",
    "version": 3
   },
   "file_extension": ".py",
   "mimetype": "text/x-python",
   "name": "python",
   "nbconvert_exporter": "python",
   "pygments_lexer": "ipython3",
   "version": "3.11.2"
  },
  "orig_nbformat": 4
 },
 "nbformat": 4,
 "nbformat_minor": 2
}
