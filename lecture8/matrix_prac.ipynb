{
 "cells": [
  {
   "cell_type": "code",
   "execution_count": 1,
   "metadata": {},
   "outputs": [
    {
     "name": "stdout",
     "output_type": "stream",
     "text": [
      "Note: you may need to restart the kernel to use updated packages.\n"
     ]
    }
   ],
   "source": [
    "%pip install -q numpy\n"
   ]
  },
  {
   "cell_type": "code",
   "execution_count": 2,
   "metadata": {},
   "outputs": [],
   "source": [
    "import numpy as np"
   ]
  },
  {
   "cell_type": "code",
   "execution_count": 8,
   "metadata": {},
   "outputs": [
    {
     "name": "stderr",
     "output_type": "stream",
     "text": [
      "<>:19: SyntaxWarning: list indices must be integers or slices, not tuple; perhaps you missed a comma?\n",
      "<>:19: SyntaxWarning: list indices must be integers or slices, not tuple; perhaps you missed a comma?\n",
      "C:\\Users\\Дима Титаренко\\AppData\\Local\\Temp\\ipykernel_9468\\2719411244.py:19: SyntaxWarning: list indices must be integers or slices, not tuple; perhaps you missed a comma?\n",
      "  [367,245,259]\n"
     ]
    },
    {
     "ename": "TypeError",
     "evalue": "list indices must be integers or slices, not tuple",
     "output_type": "error",
     "traceback": [
      "\u001b[1;31m---------------------------------------------------------------------------\u001b[0m",
      "\u001b[1;31mTypeError\u001b[0m                                 Traceback (most recent call last)",
      "\u001b[1;32mc:\\Users\\Дима Титаренко\\Desktop\\Python\\lecture8\\matrix_prac.ipynb Cell 3\u001b[0m line \u001b[0;36m1\n\u001b[0;32m     <a href='vscode-notebook-cell:/c%3A/Users/%D0%94%D0%B8%D0%BC%D0%B0%20%D0%A2%D0%B8%D1%82%D0%B0%D1%80%D0%B5%D0%BD%D0%BA%D0%BE/Desktop/Python/lecture8/matrix_prac.ipynb#W2sZmlsZQ%3D%3D?line=10'>11</a>\u001b[0m matrix1\u001b[39m+\u001b[39mmatrix2\n\u001b[0;32m     <a href='vscode-notebook-cell:/c%3A/Users/%D0%94%D0%B8%D0%BC%D0%B0%20%D0%A2%D0%B8%D1%82%D0%B0%D1%80%D0%B5%D0%BD%D0%BA%D0%BE/Desktop/Python/lecture8/matrix_prac.ipynb#W2sZmlsZQ%3D%3D?line=11'>12</a>\u001b[0m matrix3\u001b[39m=\u001b[39mnp\u001b[39m.\u001b[39marray([\n\u001b[0;32m     <a href='vscode-notebook-cell:/c%3A/Users/%D0%94%D0%B8%D0%BC%D0%B0%20%D0%A2%D0%B8%D1%82%D0%B0%D1%80%D0%B5%D0%BD%D0%BA%D0%BE/Desktop/Python/lecture8/matrix_prac.ipynb#W2sZmlsZQ%3D%3D?line=12'>13</a>\u001b[0m     [\u001b[39m123\u001b[39m,\u001b[39m567\u001b[39m,\u001b[39m854\u001b[39m],\n\u001b[0;32m     <a href='vscode-notebook-cell:/c%3A/Users/%D0%94%D0%B8%D0%BC%D0%B0%20%D0%A2%D0%B8%D1%82%D0%B0%D1%80%D0%B5%D0%BD%D0%BA%D0%BE/Desktop/Python/lecture8/matrix_prac.ipynb#W2sZmlsZQ%3D%3D?line=13'>14</a>\u001b[0m     [\u001b[39m543\u001b[39m,\u001b[39m456\u001b[39m,\u001b[39m678\u001b[39m],\n\u001b[0;32m     <a href='vscode-notebook-cell:/c%3A/Users/%D0%94%D0%B8%D0%BC%D0%B0%20%D0%A2%D0%B8%D1%82%D0%B0%D1%80%D0%B5%D0%BD%D0%BA%D0%BE/Desktop/Python/lecture8/matrix_prac.ipynb#W2sZmlsZQ%3D%3D?line=14'>15</a>\u001b[0m     [\u001b[39m451\u001b[39m,\u001b[39m321\u001b[39m,\u001b[39m345\u001b[39m],\n\u001b[0;32m     <a href='vscode-notebook-cell:/c%3A/Users/%D0%94%D0%B8%D0%BC%D0%B0%20%D0%A2%D0%B8%D1%82%D0%B0%D1%80%D0%B5%D0%BD%D0%BA%D0%BE/Desktop/Python/lecture8/matrix_prac.ipynb#W2sZmlsZQ%3D%3D?line=15'>16</a>\u001b[0m ])\n\u001b[0;32m     <a href='vscode-notebook-cell:/c%3A/Users/%D0%94%D0%B8%D0%BC%D0%B0%20%D0%A2%D0%B8%D1%82%D0%B0%D1%80%D0%B5%D0%BD%D0%BA%D0%BE/Desktop/Python/lecture8/matrix_prac.ipynb#W2sZmlsZQ%3D%3D?line=16'>17</a>\u001b[0m matrix4\u001b[39m=\u001b[39mnp\u001b[39m.\u001b[39marray([\n\u001b[0;32m     <a href='vscode-notebook-cell:/c%3A/Users/%D0%94%D0%B8%D0%BC%D0%B0%20%D0%A2%D0%B8%D1%82%D0%B0%D1%80%D0%B5%D0%BD%D0%BA%D0%BE/Desktop/Python/lecture8/matrix_prac.ipynb#W2sZmlsZQ%3D%3D?line=17'>18</a>\u001b[0m     [\u001b[39m785\u001b[39m,\u001b[39m345\u001b[39m,\u001b[39m350\u001b[39m],\n\u001b[1;32m---> <a href='vscode-notebook-cell:/c%3A/Users/%D0%94%D0%B8%D0%BC%D0%B0%20%D0%A2%D0%B8%D1%82%D0%B0%D1%80%D0%B5%D0%BD%D0%BA%D0%BE/Desktop/Python/lecture8/matrix_prac.ipynb#W2sZmlsZQ%3D%3D?line=18'>19</a>\u001b[0m     [\u001b[39m367\u001b[39;49m,\u001b[39m245\u001b[39;49m,\u001b[39m259\u001b[39;49m]\n\u001b[0;32m     <a href='vscode-notebook-cell:/c%3A/Users/%D0%94%D0%B8%D0%BC%D0%B0%20%D0%A2%D0%B8%D1%82%D0%B0%D1%80%D0%B5%D0%BD%D0%BA%D0%BE/Desktop/Python/lecture8/matrix_prac.ipynb#W2sZmlsZQ%3D%3D?line=19'>20</a>\u001b[0m     [\u001b[39m478\u001b[39;49m,\u001b[39m490\u001b[39;49m,\u001b[39m495\u001b[39;49m]\n\u001b[0;32m     <a href='vscode-notebook-cell:/c%3A/Users/%D0%94%D0%B8%D0%BC%D0%B0%20%D0%A2%D0%B8%D1%82%D0%B0%D1%80%D0%B5%D0%BD%D0%BA%D0%BE/Desktop/Python/lecture8/matrix_prac.ipynb#W2sZmlsZQ%3D%3D?line=20'>21</a>\u001b[0m ])\n\u001b[0;32m     <a href='vscode-notebook-cell:/c%3A/Users/%D0%94%D0%B8%D0%BC%D0%B0%20%D0%A2%D0%B8%D1%82%D0%B0%D1%80%D0%B5%D0%BD%D0%BA%D0%BE/Desktop/Python/lecture8/matrix_prac.ipynb#W2sZmlsZQ%3D%3D?line=21'>22</a>\u001b[0m matrix3\u001b[39m*\u001b[39mmatrix4\n",
      "\u001b[1;31mTypeError\u001b[0m: list indices must be integers or slices, not tuple"
     ]
    }
   ],
   "source": [
    "matrix1=np.array([\n",
    "    [1,1,1],\n",
    "    [5,7,8],\n",
    "    [89,3,65],\n",
    "    ])\n",
    "matrix2=np.array([\n",
    "    [2,8,56],\n",
    "    [87,12,22],\n",
    "    [34,29,61],\n",
    "])\n",
    "matrix1+matrix2\n",
    "matrix3=np.array([\n",
    "    [123,567,854],\n",
    "    [543,456,678],\n",
    "    [451,321,345],\n",
    "])\n",
    "matrix4=np.array([\n",
    "    [785,345,350],\n",
    "    [367,245,259],\n",
    "    [478,490,495],\n",
    "])\n",
    "matrix3*matrix4"
   ]
  },
  {
   "cell_type": "code",
   "execution_count": 9,
   "metadata": {},
   "outputs": [
    {
     "name": "stderr",
     "output_type": "stream",
     "text": [
      "<>:17: SyntaxWarning: list indices must be integers or slices, not tuple; perhaps you missed a comma?\n",
      "<>:17: SyntaxWarning: list indices must be integers or slices, not tuple; perhaps you missed a comma?\n",
      "C:\\Users\\Дима Титаренко\\AppData\\Local\\Temp\\ipykernel_9468\\1615117242.py:17: SyntaxWarning: list indices must be integers or slices, not tuple; perhaps you missed a comma?\n",
      "  [54,67,89]\n"
     ]
    }
   ],
   "source": [
    "class Matrix:\n",
    "    matrix=[]\n",
    "def test_all(matrix1:Matrix, matrix2:Matrix):\n",
    "    assert([\n",
    "    [1,1,1],\n",
    "    [5,7,8],\n",
    "    [89,3,65],\n",
    "    ]\n",
    "    +\n",
    "    [\n",
    "    [2,8,56],\n",
    "    [87,12,22],\n",
    "    [34,29,61],\n",
    "    ]\n",
    "    ==\n",
    "    [\n",
    "    [54,67,89]\n",
    "    [23,45,78]\n",
    "    [25,90,96]    \n",
    "    ]\n",
    "    )"
   ]
  },
  {
   "cell_type": "code",
   "execution_count": null,
   "metadata": {},
   "outputs": [],
   "source": []
  }
 ],
 "metadata": {
  "kernelspec": {
   "display_name": "Python 3",
   "language": "python",
   "name": "python3"
  },
  "language_info": {
   "codemirror_mode": {
    "name": "ipython",
    "version": 3
   },
   "file_extension": ".py",
   "mimetype": "text/x-python",
   "name": "python",
   "nbconvert_exporter": "python",
   "pygments_lexer": "ipython3",
   "version": "3.11.2"
  },
  "orig_nbformat": 4
 },
 "nbformat": 4,
 "nbformat_minor": 2
}
