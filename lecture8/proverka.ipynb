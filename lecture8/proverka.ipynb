{
 "cells": [
  {
   "cell_type": "code",
   "execution_count": 26,
   "metadata": {},
   "outputs": [],
   "source": [
    "class Matrix:\n",
    "    def __init__(self, matrix):\n",
    "        self.matrix = matrix\n",
    "\n",
    "    def __add__(self, other):\n",
    "        result = []\n",
    "        for i in range(len(self.matrix)):\n",
    "            s = []\n",
    "            for j in range(len(self.matrix[0])):\n",
    "                s.append(self.matrix[i][j] + other.matrix[i][j])\n",
    "            result.append(s)\n",
    "\n",
    "        return Matrix(result)\n",
    "\n",
    "    def __sub__(self, other):\n",
    "        result = []\n",
    "        for i in range(len(self.matrix)):\n",
    "            s = []\n",
    "        for j in range(len(self.matrix[0])):\n",
    "            s.append(self.matrix[i][j] - other.matrix[i][j])\n",
    "            result.append(s)\n",
    "\n",
    "        return Matrix(result)\n",
    "\n",
    "    def __mul__(self, other):\n",
    "        result = []\n",
    "        for i in range(len(self.matrix)):\n",
    "            s = []\n",
    "            for j in range(len(other.matrix[0])):\n",
    "                value = 0\n",
    "                for k in range(len(self.matrix[0])):\n",
    "                    value = self.matrix[i][k] * other.matrix[k][j]+value\n",
    "                    s.append(value)\n",
    "        result.append(s)\n",
    "\n",
    "        return Matrix(result)\n",
    "\n",
    "    def __truediv__(self, other):\n",
    "        if isinstance(other, int) or isinstance(other, float):\n",
    "            result = []\n",
    "            for i in range(len(self.matrix)):\n",
    "                s = []\n",
    "            for j in range(len(self.matrix[0])):\n",
    "                s.append(self.matrix[i][j] / other)\n",
    "                result.append(s)\n",
    "\n",
    "        return Matrix(result)\n",
    "\n",
    "    def __str__(self):\n",
    "        return \"\\n\".join([\" \".join([str(val) for val in row]) for row in self.matrix])\n",
    "\n",
    "\n",
    "    \n",
    "    \n",
    "    \n",
    "    \n",
    "\n",
    "    \n",
    "    "
   ]
  },
  {
   "cell_type": "code",
   "execution_count": 27,
   "metadata": {},
   "outputs": [
    {
     "name": "stdout",
     "output_type": "stream",
     "text": [
      "66 55 48\n",
      "66 55 48\n",
      "66 55 48\n",
      "90 -31 -22\n",
      "90 -31 -22\n",
      "90 -31 -22\n",
      "2652 3384 3896\n",
      "2652 3384 3896\n",
      "2652 3384 3896\n"
     ]
    }
   ],
   "source": [
    "m1= Matrix([[1,0,0],[23,45,65],[78,12,16]])\n",
    "m2= Matrix([[18,23,34],[41,69,61],[-12,43,32]])\n",
    "print(m1+m2)\n",
    "m1= Matrix([[1,0,0],[23,45,65],[78,12,16]])\n",
    "m2= Matrix([[18,23,34],[41,69,61],[-12,43,38]])\n",
    "print(m1-m2)\n",
    "m1= Matrix([[1,0,0],[23,45,65],[78,12,16]])\n",
    "m2= Matrix([[18,23,34],[41,69,61],[-12,43,32]])\n",
    "print(m1*m2)"
   ]
  },
  {
   "cell_type": "code",
   "execution_count": null,
   "metadata": {},
   "outputs": [],
   "source": []
  }
 ],
 "metadata": {
  "kernelspec": {
   "display_name": "Python 3",
   "language": "python",
   "name": "python3"
  },
  "language_info": {
   "codemirror_mode": {
    "name": "ipython",
    "version": 3
   },
   "file_extension": ".py",
   "mimetype": "text/x-python",
   "name": "python",
   "nbconvert_exporter": "python",
   "pygments_lexer": "ipython3",
   "version": "3.11.2"
  },
  "orig_nbformat": 4
 },
 "nbformat": 4,
 "nbformat_minor": 2
}
