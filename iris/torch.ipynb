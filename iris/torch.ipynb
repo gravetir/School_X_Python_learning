{
 "cells": [
  {
   "cell_type": "code",
   "execution_count": 56,
   "metadata": {},
   "outputs": [
    {
     "name": "stdout",
     "output_type": "stream",
     "text": [
      "Requirement already satisfied: torch in c:\\users\\дима титаренко\\appdata\\local\\programs\\python\\python311\\lib\\site-packages (2.1.0+cu118)Note: you may need to restart the kernel to use updated packages.\n",
      "\n",
      "Requirement already satisfied: pandas in c:\\users\\дима титаренко\\appdata\\local\\programs\\python\\python311\\lib\\site-packages (2.1.1)\n",
      "Collecting summary\n",
      "  Downloading summary-0.2.0.tar.gz (14 kB)\n",
      "  Preparing metadata (setup.py): started\n",
      "  Preparing metadata (setup.py): finished with status 'done'\n",
      "Requirement already satisfied: filelock in c:\\users\\дима титаренко\\appdata\\local\\programs\\python\\python311\\lib\\site-packages (from torch) (3.9.0)\n",
      "Requirement already satisfied: typing-extensions in c:\\users\\дима титаренко\\appdata\\local\\programs\\python\\python311\\lib\\site-packages (from torch) (4.8.0)\n",
      "Requirement already satisfied: sympy in c:\\users\\дима титаренко\\appdata\\local\\programs\\python\\python311\\lib\\site-packages (from torch) (1.12)\n",
      "Requirement already satisfied: networkx in c:\\users\\дима титаренко\\appdata\\local\\programs\\python\\python311\\lib\\site-packages (from torch) (3.0)\n",
      "Requirement already satisfied: jinja2 in c:\\users\\дима титаренко\\appdata\\local\\programs\\python\\python311\\lib\\site-packages (from torch) (3.1.2)\n",
      "Requirement already satisfied: fsspec in c:\\users\\дима титаренко\\appdata\\local\\programs\\python\\python311\\lib\\site-packages (from torch) (2023.4.0)\n",
      "Requirement already satisfied: numpy>=1.23.2 in c:\\users\\дима титаренко\\appdata\\local\\programs\\python\\python311\\lib\\site-packages (from pandas) (1.24.2)\n",
      "Requirement already satisfied: python-dateutil>=2.8.2 in c:\\users\\дима титаренко\\appdata\\local\\programs\\python\\python311\\lib\\site-packages (from pandas) (2.8.2)\n",
      "Requirement already satisfied: pytz>=2020.1 in c:\\users\\дима титаренко\\appdata\\local\\programs\\python\\python311\\lib\\site-packages (from pandas) (2023.3.post1)\n",
      "Requirement already satisfied: tzdata>=2022.1 in c:\\users\\дима титаренко\\appdata\\local\\programs\\python\\python311\\lib\\site-packages (from pandas) (2023.3)\n",
      "Collecting chardet (from summary)\n",
      "  Obtaining dependency information for chardet from https://files.pythonhosted.org/packages/38/6f/f5fbc992a329ee4e0f288c1fe0e2ad9485ed064cac731ed2fe47dcc38cbf/chardet-5.2.0-py3-none-any.whl.metadata\n",
      "  Downloading chardet-5.2.0-py3-none-any.whl.metadata (3.4 kB)\n",
      "Collecting lxml (from summary)\n",
      "  Obtaining dependency information for lxml from https://files.pythonhosted.org/packages/31/58/e3b3dd6bb2ab7404f1f4992e2d0e6926ed40cef8ce1b3bbefd95877499e1/lxml-4.9.3-cp311-cp311-win_amd64.whl.metadata\n",
      "  Downloading lxml-4.9.3-cp311-cp311-win_amd64.whl.metadata (3.9 kB)\n",
      "Requirement already satisfied: nltk in c:\\users\\дима титаренко\\appdata\\local\\programs\\python\\python311\\lib\\site-packages (from summary) (3.8.1)\n",
      "Requirement already satisfied: six>=1.5 in c:\\users\\дима титаренко\\appdata\\local\\programs\\python\\python311\\lib\\site-packages (from python-dateutil>=2.8.2->pandas) (1.16.0)\n",
      "Requirement already satisfied: MarkupSafe>=2.0 in c:\\users\\дима титаренко\\appdata\\local\\programs\\python\\python311\\lib\\site-packages (from jinja2->torch) (2.1.3)\n",
      "Requirement already satisfied: click in c:\\users\\дима титаренко\\appdata\\roaming\\python\\python311\\site-packages (from nltk->summary) (8.1.7)\n",
      "Requirement already satisfied: joblib in c:\\users\\дима титаренко\\appdata\\local\\programs\\python\\python311\\lib\\site-packages (from nltk->summary) (1.3.2)\n",
      "Requirement already satisfied: regex>=2021.8.3 in c:\\users\\дима титаренко\\appdata\\local\\programs\\python\\python311\\lib\\site-packages (from nltk->summary) (2023.10.3)\n",
      "Requirement already satisfied: tqdm in c:\\users\\дима титаренко\\appdata\\local\\programs\\python\\python311\\lib\\site-packages (from nltk->summary) (4.66.1)\n",
      "Requirement already satisfied: mpmath>=0.19 in c:\\users\\дима титаренко\\appdata\\local\\programs\\python\\python311\\lib\\site-packages (from sympy->torch) (1.3.0)\n",
      "Requirement already satisfied: colorama in c:\\users\\дима титаренко\\appdata\\roaming\\python\\python311\\site-packages (from click->nltk->summary) (0.4.6)\n",
      "Downloading chardet-5.2.0-py3-none-any.whl (199 kB)\n",
      "   ---------------------------------------- 0.0/199.4 kB ? eta -:--:--\n",
      "   ------ --------------------------------- 30.7/199.4 kB ? eta -:--:--\n",
      "   ------------------ --------------------- 92.2/199.4 kB 1.3 MB/s eta 0:00:01\n",
      "   ---------------------------------- ----- 174.1/199.4 kB 1.5 MB/s eta 0:00:01\n",
      "   ---------------------------------------- 199.4/199.4 kB 1.3 MB/s eta 0:00:00\n",
      "Downloading lxml-4.9.3-cp311-cp311-win_amd64.whl (3.8 MB)\n",
      "   ---------------------------------------- 0.0/3.8 MB ? eta -:--:--\n",
      "   -- ------------------------------------- 0.2/3.8 MB 6.9 MB/s eta 0:00:01\n",
      "   ---- ----------------------------------- 0.5/3.8 MB 5.6 MB/s eta 0:00:01\n",
      "   --------- ------------------------------ 0.9/3.8 MB 6.8 MB/s eta 0:00:01\n",
      "   ------------- -------------------------- 1.2/3.8 MB 7.8 MB/s eta 0:00:01\n",
      "   ----------------------- ---------------- 2.2/3.8 MB 10.0 MB/s eta 0:00:01\n",
      "   ---------------------------------- ----- 3.2/3.8 MB 12.1 MB/s eta 0:00:01\n",
      "   ---------------------------------- ----- 3.2/3.8 MB 12.1 MB/s eta 0:00:01\n",
      "   ------------------------------------ --- 3.5/3.8 MB 10.1 MB/s eta 0:00:01\n",
      "   ---------------------------------------  3.8/3.8 MB 9.3 MB/s eta 0:00:01\n",
      "   ---------------------------------------- 3.8/3.8 MB 8.6 MB/s eta 0:00:00\n",
      "Building wheels for collected packages: summary\n",
      "  Building wheel for summary (setup.py): started\n",
      "  Building wheel for summary (setup.py): finished with status 'done'\n",
      "  Created wheel for summary: filename=summary-0.2.0-py3-none-any.whl size=18139 sha256=7b1815907bd3a4ef869037aa066ee38db5fbea326bb5c54d731127420b11d044\n",
      "  Stored in directory: c:\\users\\дима титаренко\\appdata\\local\\pip\\cache\\wheels\\f6\\6a\\c8\\a54de62fbdb2ae11eb59c841544ffcf7b0a8c7bf13a21b38d2\n",
      "Successfully built summary\n",
      "Installing collected packages: lxml, chardet, summary\n",
      "Successfully installed chardet-5.2.0 lxml-4.9.3 summary-0.2.0\n"
     ]
    },
    {
     "name": "stderr",
     "output_type": "stream",
     "text": [
      "\n",
      "[notice] A new release of pip is available: 23.2.1 -> 23.3\n",
      "[notice] To update, run: python.exe -m pip install --upgrade pip\n"
     ]
    }
   ],
   "source": [
    "%pip install torch pandas summary"
   ]
  },
  {
   "cell_type": "code",
   "execution_count": 38,
   "metadata": {},
   "outputs": [],
   "source": [
    "import torch\n",
    "import torch.nn as nn"
   ]
  },
  {
   "cell_type": "code",
   "execution_count": 39,
   "metadata": {},
   "outputs": [
    {
     "data": {
      "text/plain": [
       "tensor([1, 1, 2, 3, 4], dtype=torch.int32)"
      ]
     },
     "execution_count": 39,
     "metadata": {},
     "output_type": "execute_result"
    }
   ],
   "source": [
    "a=torch.IntTensor([1,1,2,3,4])\n",
    "a"
   ]
  },
  {
   "cell_type": "code",
   "execution_count": 40,
   "metadata": {},
   "outputs": [],
   "source": [
    "# a=torch.tensor([1.01,1,2,3,4])\n",
    "# a"
   ]
  },
  {
   "cell_type": "code",
   "execution_count": 41,
   "metadata": {},
   "outputs": [
    {
     "data": {
      "text/plain": [
       "tensor([ 1,  1,  8, 15, 24], dtype=torch.int32)"
      ]
     },
     "execution_count": 41,
     "metadata": {},
     "output_type": "execute_result"
    }
   ],
   "source": [
    "a=torch.IntTensor([1,1,2,3,4])\n",
    "b=torch.IntTensor([1,1,4,5,6])\n",
    "a*b"
   ]
  },
  {
   "cell_type": "code",
   "execution_count": 42,
   "metadata": {},
   "outputs": [
    {
     "data": {
      "text/plain": [
       "tensor(49, dtype=torch.int32)"
      ]
     },
     "execution_count": 42,
     "metadata": {},
     "output_type": "execute_result"
    }
   ],
   "source": [
    "torch.dot(a,b)"
   ]
  },
  {
   "cell_type": "code",
   "execution_count": 43,
   "metadata": {},
   "outputs": [
    {
     "data": {
      "text/plain": [
       "tensor([[0.0235, 0.0189, 0.0057, 0.0217],\n",
       "        [0.4039, 0.3247, 0.0980, 0.3741],\n",
       "        [0.1700, 0.1366, 0.0412, 0.1574],\n",
       "        [0.3251, 0.2613, 0.0789, 0.3011]])"
      ]
     },
     "execution_count": 43,
     "metadata": {},
     "output_type": "execute_result"
    }
   ],
   "source": [
    "a=torch.rand((1,4))\n",
    "b=torch.rand((4,1))\n",
    "a*b"
   ]
  },
  {
   "cell_type": "code",
   "execution_count": 44,
   "metadata": {},
   "outputs": [
    {
     "data": {
      "text/plain": [
       "tensor([[0.6905]])"
      ]
     },
     "execution_count": 44,
     "metadata": {},
     "output_type": "execute_result"
    }
   ],
   "source": [
    "a@b"
   ]
  },
  {
   "cell_type": "markdown",
   "metadata": {},
   "source": [
    "Размерность"
   ]
  },
  {
   "cell_type": "code",
   "execution_count": 45,
   "metadata": {},
   "outputs": [
    {
     "data": {
      "text/plain": [
       "torch.Size([1, 4])"
      ]
     },
     "execution_count": 45,
     "metadata": {},
     "output_type": "execute_result"
    }
   ],
   "source": [
    "a.shape"
   ]
  },
  {
   "cell_type": "code",
   "execution_count": 46,
   "metadata": {},
   "outputs": [
    {
     "data": {
      "text/plain": [
       "torch.Size([1, 4])"
      ]
     },
     "execution_count": 46,
     "metadata": {},
     "output_type": "execute_result"
    }
   ],
   "source": [
    "a.size()"
   ]
  },
  {
   "cell_type": "markdown",
   "metadata": {},
   "source": [
    "Добавление размерности"
   ]
  },
  {
   "cell_type": "code",
   "execution_count": 47,
   "metadata": {},
   "outputs": [
    {
     "data": {
      "text/plain": [
       "torch.Size([1, 1, 4])"
      ]
     },
     "execution_count": 47,
     "metadata": {},
     "output_type": "execute_result"
    }
   ],
   "source": [
    "a[None, :].shape"
   ]
  },
  {
   "cell_type": "code",
   "execution_count": 48,
   "metadata": {},
   "outputs": [
    {
     "data": {
      "text/plain": [
       "torch.Size([4, 1])"
      ]
     },
     "execution_count": 48,
     "metadata": {},
     "output_type": "execute_result"
    }
   ],
   "source": [
    "a.view(-1,1).shape"
   ]
  },
  {
   "cell_type": "code",
   "execution_count": 49,
   "metadata": {},
   "outputs": [
    {
     "data": {
      "text/plain": [
       "tensor([[0.4759],\n",
       "        [0.3825],\n",
       "        [0.1154],\n",
       "        [0.4407]])"
      ]
     },
     "execution_count": 49,
     "metadata": {},
     "output_type": "execute_result"
    }
   ],
   "source": [
    "a.T"
   ]
  },
  {
   "cell_type": "code",
   "execution_count": 50,
   "metadata": {},
   "outputs": [],
   "source": [
    "from torch.utils.data import Dataset, DataLoader"
   ]
  },
  {
   "cell_type": "code",
   "execution_count": 51,
   "metadata": {},
   "outputs": [],
   "source": [
    "import pandas as pd"
   ]
  },
  {
   "cell_type": "code",
   "execution_count": 52,
   "metadata": {},
   "outputs": [
    {
     "data": {
      "text/html": [
       "<div>\n",
       "<style scoped>\n",
       "    .dataframe tbody tr th:only-of-type {\n",
       "        vertical-align: middle;\n",
       "    }\n",
       "\n",
       "    .dataframe tbody tr th {\n",
       "        vertical-align: top;\n",
       "    }\n",
       "\n",
       "    .dataframe thead th {\n",
       "        text-align: right;\n",
       "    }\n",
       "</style>\n",
       "<table border=\"1\" class=\"dataframe\">\n",
       "  <thead>\n",
       "    <tr style=\"text-align: right;\">\n",
       "      <th></th>\n",
       "      <th>sepal.length</th>\n",
       "      <th>sepal.width</th>\n",
       "      <th>petal.length</th>\n",
       "      <th>petal.width</th>\n",
       "      <th>variety</th>\n",
       "    </tr>\n",
       "  </thead>\n",
       "  <tbody>\n",
       "    <tr>\n",
       "      <th>0</th>\n",
       "      <td>5.1</td>\n",
       "      <td>3.5</td>\n",
       "      <td>1.4</td>\n",
       "      <td>0.2</td>\n",
       "      <td>Setosa</td>\n",
       "    </tr>\n",
       "    <tr>\n",
       "      <th>1</th>\n",
       "      <td>4.9</td>\n",
       "      <td>3.0</td>\n",
       "      <td>1.4</td>\n",
       "      <td>0.2</td>\n",
       "      <td>Setosa</td>\n",
       "    </tr>\n",
       "    <tr>\n",
       "      <th>2</th>\n",
       "      <td>4.7</td>\n",
       "      <td>3.2</td>\n",
       "      <td>1.3</td>\n",
       "      <td>0.2</td>\n",
       "      <td>Setosa</td>\n",
       "    </tr>\n",
       "    <tr>\n",
       "      <th>3</th>\n",
       "      <td>4.6</td>\n",
       "      <td>3.1</td>\n",
       "      <td>1.5</td>\n",
       "      <td>0.2</td>\n",
       "      <td>Setosa</td>\n",
       "    </tr>\n",
       "    <tr>\n",
       "      <th>4</th>\n",
       "      <td>5.0</td>\n",
       "      <td>3.6</td>\n",
       "      <td>1.4</td>\n",
       "      <td>0.2</td>\n",
       "      <td>Setosa</td>\n",
       "    </tr>\n",
       "  </tbody>\n",
       "</table>\n",
       "</div>"
      ],
      "text/plain": [
       "   sepal.length  sepal.width  petal.length  petal.width variety\n",
       "0           5.1          3.5           1.4          0.2  Setosa\n",
       "1           4.9          3.0           1.4          0.2  Setosa\n",
       "2           4.7          3.2           1.3          0.2  Setosa\n",
       "3           4.6          3.1           1.5          0.2  Setosa\n",
       "4           5.0          3.6           1.4          0.2  Setosa"
      ]
     },
     "execution_count": 52,
     "metadata": {},
     "output_type": "execute_result"
    }
   ],
   "source": [
    "df = pd.read_csv('iris.csv')\n",
    "df.head()"
   ]
  },
  {
   "cell_type": "code",
   "execution_count": 53,
   "metadata": {},
   "outputs": [],
   "source": [
    "class IrisDataset(Dataset):\n",
    "    def __init__(self, dataframe:pd.DataFrame):\n",
    "        self.df=dataframe\n",
    "    def __len__(self):\n",
    "        return self.df.shape[0]\n",
    "    def __gettitem__(self,ind):\n",
    "        raw=self.df.loc[ind].to_numpy()\n",
    "        target=raw[-1]\n",
    "        target=torch.Tensor"
   ]
  },
  {
   "cell_type": "code",
   "execution_count": 54,
   "metadata": {},
   "outputs": [],
   "source": [
    "class Net(nn.Module):\n",
    "    def __init__(self):\n",
    "        super(Net,self).__init__()\n",
    "        self.linear1=nn.Linear(4,32)\n",
    "        self.f_act=nn.ReLu()\n",
    "        self.linear2=nn.Linear(32,3)\n",
    "        self.softmax=nn.Softmax(dim=1)\n",
    "    def forward(self,X):\n",
    "        res=self.linear1(X)\n",
    "        res=self.f_act(res)\n",
    "        res=self.linear2(res)\n",
    "        res=self.softmax(res)\n",
    "        return res"
   ]
  },
  {
   "cell_type": "code",
   "execution_count": 57,
   "metadata": {},
   "outputs": [
    {
     "ename": "AttributeError",
     "evalue": "module 'torch.nn' has no attribute 'ReLu'",
     "output_type": "error",
     "traceback": [
      "\u001b[1;31m---------------------------------------------------------------------------\u001b[0m",
      "\u001b[1;31mAttributeError\u001b[0m                            Traceback (most recent call last)",
      "\u001b[1;32mc:\\Users\\Дима Титаренко\\Desktop\\Python\\iris\\torch.ipynb Cell 21\u001b[0m line \u001b[0;36m2\n\u001b[0;32m      <a href='vscode-notebook-cell:/c%3A/Users/%D0%94%D0%B8%D0%BC%D0%B0%20%D0%A2%D0%B8%D1%82%D0%B0%D1%80%D0%B5%D0%BD%D0%BA%D0%BE/Desktop/Python/iris/torch.ipynb#X25sZmlsZQ%3D%3D?line=0'>1</a>\u001b[0m \u001b[39mfrom\u001b[39;00m \u001b[39mtorchsummary\u001b[39;00m \u001b[39mimport\u001b[39;00m summary\n\u001b[1;32m----> <a href='vscode-notebook-cell:/c%3A/Users/%D0%94%D0%B8%D0%BC%D0%B0%20%D0%A2%D0%B8%D1%82%D0%B0%D1%80%D0%B5%D0%BD%D0%BA%D0%BE/Desktop/Python/iris/torch.ipynb#X25sZmlsZQ%3D%3D?line=1'>2</a>\u001b[0m summary(Net())\n",
      "\u001b[1;32mc:\\Users\\Дима Титаренко\\Desktop\\Python\\iris\\torch.ipynb Cell 21\u001b[0m line \u001b[0;36m5\n\u001b[0;32m      <a href='vscode-notebook-cell:/c%3A/Users/%D0%94%D0%B8%D0%BC%D0%B0%20%D0%A2%D0%B8%D1%82%D0%B0%D1%80%D0%B5%D0%BD%D0%BA%D0%BE/Desktop/Python/iris/torch.ipynb#X25sZmlsZQ%3D%3D?line=2'>3</a>\u001b[0m \u001b[39msuper\u001b[39m(Net,\u001b[39mself\u001b[39m)\u001b[39m.\u001b[39m\u001b[39m__init__\u001b[39m()\n\u001b[0;32m      <a href='vscode-notebook-cell:/c%3A/Users/%D0%94%D0%B8%D0%BC%D0%B0%20%D0%A2%D0%B8%D1%82%D0%B0%D1%80%D0%B5%D0%BD%D0%BA%D0%BE/Desktop/Python/iris/torch.ipynb#X25sZmlsZQ%3D%3D?line=3'>4</a>\u001b[0m \u001b[39mself\u001b[39m\u001b[39m.\u001b[39mlinear1\u001b[39m=\u001b[39mnn\u001b[39m.\u001b[39mLinear(\u001b[39m4\u001b[39m,\u001b[39m32\u001b[39m)\n\u001b[1;32m----> <a href='vscode-notebook-cell:/c%3A/Users/%D0%94%D0%B8%D0%BC%D0%B0%20%D0%A2%D0%B8%D1%82%D0%B0%D1%80%D0%B5%D0%BD%D0%BA%D0%BE/Desktop/Python/iris/torch.ipynb#X25sZmlsZQ%3D%3D?line=4'>5</a>\u001b[0m \u001b[39mself\u001b[39m\u001b[39m.\u001b[39mf_act\u001b[39m=\u001b[39mnn\u001b[39m.\u001b[39;49mReLu()\n\u001b[0;32m      <a href='vscode-notebook-cell:/c%3A/Users/%D0%94%D0%B8%D0%BC%D0%B0%20%D0%A2%D0%B8%D1%82%D0%B0%D1%80%D0%B5%D0%BD%D0%BA%D0%BE/Desktop/Python/iris/torch.ipynb#X25sZmlsZQ%3D%3D?line=5'>6</a>\u001b[0m \u001b[39mself\u001b[39m\u001b[39m.\u001b[39mlinear2\u001b[39m=\u001b[39mnn\u001b[39m.\u001b[39mLinear(\u001b[39m32\u001b[39m,\u001b[39m3\u001b[39m)\n\u001b[0;32m      <a href='vscode-notebook-cell:/c%3A/Users/%D0%94%D0%B8%D0%BC%D0%B0%20%D0%A2%D0%B8%D1%82%D0%B0%D1%80%D0%B5%D0%BD%D0%BA%D0%BE/Desktop/Python/iris/torch.ipynb#X25sZmlsZQ%3D%3D?line=6'>7</a>\u001b[0m \u001b[39mself\u001b[39m\u001b[39m.\u001b[39msoftmax\u001b[39m=\u001b[39mnn\u001b[39m.\u001b[39mSoftmax(dim\u001b[39m=\u001b[39m\u001b[39m1\u001b[39m)\n",
      "\u001b[1;31mAttributeError\u001b[0m: module 'torch.nn' has no attribute 'ReLu'"
     ]
    }
   ],
   "source": [
    "from torchsummary import summary\n",
    "summary(Net())"
   ]
  },
  {
   "cell_type": "code",
   "execution_count": null,
   "metadata": {},
   "outputs": [],
   "source": []
  }
 ],
 "metadata": {
  "kernelspec": {
   "display_name": "Python 3",
   "language": "python",
   "name": "python3"
  },
  "language_info": {
   "codemirror_mode": {
    "name": "ipython",
    "version": 3
   },
   "file_extension": ".py",
   "mimetype": "text/x-python",
   "name": "python",
   "nbconvert_exporter": "python",
   "pygments_lexer": "ipython3",
   "version": "3.11.2"
  }
 },
 "nbformat": 4,
 "nbformat_minor": 2
}
