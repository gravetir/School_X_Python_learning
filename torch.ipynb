{
 "cells": [
  {
   "cell_type": "code",
   "execution_count": 14,
   "metadata": {},
   "outputs": [],
   "source": [
    "import torch\n",
    "from torchvision.transforms import transforms"
   ]
  },
  {
   "cell_type": "code",
   "execution_count": 19,
   "metadata": {},
   "outputs": [],
   "source": [
    "import pathlib\n",
    "from torch.utils.data import Dataset"
   ]
  },
  {
   "cell_type": "code",
   "execution_count": 16,
   "metadata": {},
   "outputs": [],
   "source": [
    "class LatinDataset(Dataset):\n",
    "    def __init__(self,path_dataset:pathlib.Path):\n",
    "        self.path_dataset=path_dataset\n",
    "        self.data_list=[x for x in self.path_dataset.glob(\"*/**\") if x.is_file()]\n",
    "        self.data_class=list(set(x.parent for x in self.data_list))\n",
    "        self.transorm_func=transforms.Compose([\n",
    "            transforms.TOPILImage(),\n",
    "            transforms.Grayscale(),\n",
    "            transforms.Resize((124,124)),\n",
    "            transforms.PILToTensor()\n",
    "        ])\n",
    "    def __len__ (self):\n",
    "        # return len([x for x in self.path_dataset.glob(\"*/**\") if x.is_file()])\n",
    "        return len(self.data_list)\n",
    "    def __getitem__(self, index):\n",
    "        img_path=self.data_list[index]\n",
    "        img_label= torch.zeros(len(self.data_class))\n",
    "        img_label[self.data_class.index(img_path.parent)] = 1.0\n",
    "        img_tensor=read_image(img_path)\n",
    "        return self.transorm_func(img_tensor), img_label"
   ]
  },
  {
   "cell_type": "code",
   "execution_count": 17,
   "metadata": {},
   "outputs": [
    {
     "ename": "FileNotFoundError",
     "evalue": "[WinError 3] Системе не удается найти указанный путь: '\\\\content\\\\test'",
     "output_type": "error",
     "traceback": [
      "\u001b[1;31m---------------------------------------------------------------------------\u001b[0m",
      "\u001b[1;31mFileNotFoundError\u001b[0m                         Traceback (most recent call last)",
      "\u001b[1;32mc:\\Users\\Дима Титаренко\\Desktop\\Python\\torch.ipynb Cell 4\u001b[0m line \u001b[0;36m4\n\u001b[0;32m      <a href='vscode-notebook-cell:/c%3A/Users/%D0%94%D0%B8%D0%BC%D0%B0%20%D0%A2%D0%B8%D1%82%D0%B0%D1%80%D0%B5%D0%BD%D0%BA%D0%BE/Desktop/Python/torch.ipynb#W2sZmlsZQ%3D%3D?line=0'>1</a>\u001b[0m path_dataset\u001b[39m=\u001b[39mpathlib\u001b[39m.\u001b[39mPath(\u001b[39m\"\u001b[39m\u001b[39m/content/test\u001b[39m\u001b[39m\"\u001b[39m)\n\u001b[0;32m      <a href='vscode-notebook-cell:/c%3A/Users/%D0%94%D0%B8%D0%BC%D0%B0%20%D0%A2%D0%B8%D1%82%D0%B0%D1%80%D0%B5%D0%BD%D0%BA%D0%BE/Desktop/Python/torch.ipynb#W2sZmlsZQ%3D%3D?line=1'>2</a>\u001b[0m \u001b[39m# a=([x for x in path_dataset.glob(\"**/*\") if x.is_file()])\u001b[39;00m\n\u001b[0;32m      <a href='vscode-notebook-cell:/c%3A/Users/%D0%94%D0%B8%D0%BC%D0%B0%20%D0%A2%D0%B8%D1%82%D0%B0%D1%80%D0%B5%D0%BD%D0%BA%D0%BE/Desktop/Python/torch.ipynb#W2sZmlsZQ%3D%3D?line=2'>3</a>\u001b[0m \u001b[39m# set([x.parent for x in a])\u001b[39;00m\n\u001b[1;32m----> <a href='vscode-notebook-cell:/c%3A/Users/%D0%94%D0%B8%D0%BC%D0%B0%20%D0%A2%D0%B8%D1%82%D0%B0%D1%80%D0%B5%D0%BD%D0%BA%D0%BE/Desktop/Python/torch.ipynb#W2sZmlsZQ%3D%3D?line=3'>4</a>\u001b[0m [a \u001b[39mfor\u001b[39;49;00m a \u001b[39min\u001b[39;49;00m path_dataset\u001b[39m.\u001b[39;49miterdir()]\n",
      "\u001b[1;32mc:\\Users\\Дима Титаренко\\Desktop\\Python\\torch.ipynb Cell 4\u001b[0m line \u001b[0;36m4\n\u001b[0;32m      <a href='vscode-notebook-cell:/c%3A/Users/%D0%94%D0%B8%D0%BC%D0%B0%20%D0%A2%D0%B8%D1%82%D0%B0%D1%80%D0%B5%D0%BD%D0%BA%D0%BE/Desktop/Python/torch.ipynb#W2sZmlsZQ%3D%3D?line=0'>1</a>\u001b[0m path_dataset\u001b[39m=\u001b[39mpathlib\u001b[39m.\u001b[39mPath(\u001b[39m\"\u001b[39m\u001b[39m/content/test\u001b[39m\u001b[39m\"\u001b[39m)\n\u001b[0;32m      <a href='vscode-notebook-cell:/c%3A/Users/%D0%94%D0%B8%D0%BC%D0%B0%20%D0%A2%D0%B8%D1%82%D0%B0%D1%80%D0%B5%D0%BD%D0%BA%D0%BE/Desktop/Python/torch.ipynb#W2sZmlsZQ%3D%3D?line=1'>2</a>\u001b[0m \u001b[39m# a=([x for x in path_dataset.glob(\"**/*\") if x.is_file()])\u001b[39;00m\n\u001b[0;32m      <a href='vscode-notebook-cell:/c%3A/Users/%D0%94%D0%B8%D0%BC%D0%B0%20%D0%A2%D0%B8%D1%82%D0%B0%D1%80%D0%B5%D0%BD%D0%BA%D0%BE/Desktop/Python/torch.ipynb#W2sZmlsZQ%3D%3D?line=2'>3</a>\u001b[0m \u001b[39m# set([x.parent for x in a])\u001b[39;00m\n\u001b[1;32m----> <a href='vscode-notebook-cell:/c%3A/Users/%D0%94%D0%B8%D0%BC%D0%B0%20%D0%A2%D0%B8%D1%82%D0%B0%D1%80%D0%B5%D0%BD%D0%BA%D0%BE/Desktop/Python/torch.ipynb#W2sZmlsZQ%3D%3D?line=3'>4</a>\u001b[0m [a \u001b[39mfor\u001b[39;00m a \u001b[39min\u001b[39;00m path_dataset\u001b[39m.\u001b[39miterdir()]\n",
      "File \u001b[1;32mc:\\Users\\Дима Титаренко\\AppData\\Local\\Programs\\Python\\Python311\\Lib\\pathlib.py:931\u001b[0m, in \u001b[0;36mPath.iterdir\u001b[1;34m(self)\u001b[0m\n\u001b[0;32m    927\u001b[0m \u001b[39mdef\u001b[39;00m \u001b[39miterdir\u001b[39m(\u001b[39mself\u001b[39m):\n\u001b[0;32m    928\u001b[0m \u001b[39m    \u001b[39m\u001b[39m\"\"\"Iterate over the files in this directory.  Does not yield any\u001b[39;00m\n\u001b[0;32m    929\u001b[0m \u001b[39m    result for the special paths '.' and '..'.\u001b[39;00m\n\u001b[0;32m    930\u001b[0m \u001b[39m    \"\"\"\u001b[39;00m\n\u001b[1;32m--> 931\u001b[0m     \u001b[39mfor\u001b[39;00m name \u001b[39min\u001b[39;00m os\u001b[39m.\u001b[39;49mlistdir(\u001b[39mself\u001b[39;49m):\n\u001b[0;32m    932\u001b[0m         \u001b[39myield\u001b[39;00m \u001b[39mself\u001b[39m\u001b[39m.\u001b[39m_make_child_relpath(name)\n",
      "\u001b[1;31mFileNotFoundError\u001b[0m: [WinError 3] Системе не удается найти указанный путь: '\\\\content\\\\test'"
     ]
    }
   ],
   "source": [
    "path_dataset=pathlib.Path(\"/content/test\")\n",
    "# a=([x for x in path_dataset.glob(\"**/*\") if x.is_file()])\n",
    "# set([x.parent for x in a])\n",
    "[a for a in path_dataset.iterdir()]"
   ]
  },
  {
   "cell_type": "code",
   "execution_count": null,
   "metadata": {},
   "outputs": [],
   "source": []
  }
 ],
 "metadata": {
  "kernelspec": {
   "display_name": "Python 3",
   "language": "python",
   "name": "python3"
  },
  "language_info": {
   "codemirror_mode": {
    "name": "ipython",
    "version": 3
   },
   "file_extension": ".py",
   "mimetype": "text/x-python",
   "name": "python",
   "nbconvert_exporter": "python",
   "pygments_lexer": "ipython3",
   "version": "3.11.2"
  }
 },
 "nbformat": 4,
 "nbformat_minor": 2
}
